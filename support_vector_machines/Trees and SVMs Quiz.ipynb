{
 "cells": [
  {
   "cell_type": "code",
   "execution_count": 1,
   "id": "db644964",
   "metadata": {},
   "outputs": [],
   "source": [
    "%matplotlib inline"
   ]
  },
  {
   "cell_type": "code",
   "execution_count": 2,
   "id": "eb8c6010",
   "metadata": {},
   "outputs": [],
   "source": [
    "import numpy as np \n",
    "import pandas as pd\n",
    "import matplotlib.pyplot as plt\n",
    "from sklearn.svm import LinearSVC\n",
    "from sklearn.metrics import accuracy_score"
   ]
  },
  {
   "cell_type": "markdown",
   "id": "71341798",
   "metadata": {},
   "source": [
    "<h1>Trees and SVMs Quiz</h1>"
   ]
  },
  {
   "cell_type": "markdown",
   "id": "51f31b9c",
   "metadata": {},
   "source": [
    "<h3>Support Vectors</h3>\n",
    "\n",
    "<p>Which of the following best describes support vectors?\n",
    "    \n",
    "Answer: Data points that lie closest to the decision surface</p>"
   ]
  },
  {
   "cell_type": "markdown",
   "id": "41e52111",
   "metadata": {},
   "source": [
    "<h3>Linear SVM Classifier</h3>\n",
    "\n",
    "<p>True or false? For a linearly separable dataset with two classes, logistic regression and linear SVM will produce the same decision boundary.\n",
    "\n",
    "Answer: Not enough information</p>"
   ]
  },
  {
   "cell_type": "markdown",
   "id": "5be7eced",
   "metadata": {},
   "source": [
    "<h3>SVM Accuracy</h3>\n",
    "\n",
    "<p>You train a linear SVM classifier on three features. It learns the decision boundary given by the plane 3x_1 - 2x_2 + 5x_3 = 0. The table below represents your testing data. What is the accuracy of your model on this data?\n",
    "\n",
    "Answer: 100%</p>"
   ]
  },
  {
   "cell_type": "code",
   "execution_count": 3,
   "id": "c93551c4",
   "metadata": {},
   "outputs": [
    {
     "ename": "NameError",
     "evalue": "name 'bank_data' is not defined",
     "output_type": "error",
     "traceback": [
      "\u001b[1;31m---------------------------------------------------------------------------\u001b[0m",
      "\u001b[1;31mNameError\u001b[0m                                 Traceback (most recent call last)",
      "\u001b[1;32m<ipython-input-3-897702677452>\u001b[0m in \u001b[0;36m<module>\u001b[1;34m\u001b[0m\n\u001b[0;32m      1\u001b[0m \u001b[0msvm_accuracy_data\u001b[0m \u001b[1;33m=\u001b[0m \u001b[0mpd\u001b[0m\u001b[1;33m.\u001b[0m\u001b[0mread_csv\u001b[0m\u001b[1;33m(\u001b[0m\u001b[1;34m\"data/quiz_svm_accuracy.csv\"\u001b[0m\u001b[1;33m)\u001b[0m\u001b[1;33m\u001b[0m\u001b[1;33m\u001b[0m\u001b[0m\n\u001b[0;32m      2\u001b[0m \u001b[0msvm_accuracy_data\u001b[0m\u001b[1;33m.\u001b[0m\u001b[0mhead\u001b[0m\u001b[1;33m(\u001b[0m\u001b[1;33m)\u001b[0m\u001b[1;33m\u001b[0m\u001b[1;33m\u001b[0m\u001b[0m\n\u001b[1;32m----> 3\u001b[1;33m \u001b[0msvm_accuracy_data_attributes\u001b[0m \u001b[1;33m=\u001b[0m \u001b[0mbank_data\u001b[0m\u001b[1;33m.\u001b[0m\u001b[0mdrop\u001b[0m\u001b[1;33m(\u001b[0m\u001b[1;34m\"y\"\u001b[0m\u001b[1;33m,\u001b[0m \u001b[0maxis\u001b[0m \u001b[1;33m=\u001b[0m \u001b[1;36m1\u001b[0m\u001b[1;33m)\u001b[0m\u001b[1;33m\u001b[0m\u001b[1;33m\u001b[0m\u001b[0m\n\u001b[0m\u001b[0;32m      4\u001b[0m \u001b[0msvm_accuracy_data_labels\u001b[0m \u001b[1;33m=\u001b[0m \u001b[0mbank_data\u001b[0m\u001b[1;33m[\u001b[0m\u001b[1;34m\"y\"\u001b[0m\u001b[1;33m]\u001b[0m\u001b[1;33m\u001b[0m\u001b[1;33m\u001b[0m\u001b[0m\n",
      "\u001b[1;31mNameError\u001b[0m: name 'bank_data' is not defined"
     ]
    }
   ],
   "source": [
    "svm_accuracy_data = pd.read_csv(\"data/quiz_svm_accuracy.csv\")\n",
    "svm_accuracy_data.head()\n",
    "svm_accuracy_data_attributes = bank_data.drop(\"y\", axis = 1)\n",
    "svm_accuracy_data_labels = bank_data[\"y\"]"
   ]
  },
  {
   "cell_type": "code",
   "execution_count": null,
   "id": "834e0a94",
   "metadata": {},
   "outputs": [],
   "source": [
    "svm = LinearSVC(C = 1, max_iter = 1e3)\n",
    "svm.fit(svm_accuracy_data_attributes, svm_accuracy_data_labels)"
   ]
  },
  {
   "cell_type": "code",
   "execution_count": null,
   "id": "1f779e63",
   "metadata": {},
   "outputs": [],
   "source": [
    "print(accuracy_score(svm_accuracy_data_labels, svm.predict(svm_accuracy_data_attributes)))"
   ]
  },
  {
   "cell_type": "markdown",
   "id": "d2bcbc2f",
   "metadata": {},
   "source": [
    "<h3>RBF Kernel</h3>\n",
    "\n",
    "<p>Given a training set with 3 features and 10 examples, you train an SVM with a Gaussian (RBF) kernel. How many dimensions does the kernel function \"project\" the data into?\n",
    "\n",
    "Answer: The RBF kernel does not project the data into a higher number of dimensions</p>"
   ]
  },
  {
   "cell_type": "markdown",
   "id": "3511c635",
   "metadata": {},
   "source": [
    "<h3>Hyperparameters</h3>\n",
    "\n",
    "<p>Which of the following statements about SVMs is / are true?\n",
    "\n",
    "Answer: Decreasing C leads to a \"wider margin\", Decreasing C leads to more training error</p>"
   ]
  },
  {
   "cell_type": "markdown",
   "id": "772e2632",
   "metadata": {},
   "source": [
    "<h3>k-Nearest Neighbors</h3>\n",
    "\n",
    "<p>Which of the following is / are true about kNN?\n",
    "\n",
    "Answer: kNN is much more computationaly expensive to train than to predict new data points, kNN can be used for value imputation</p>"
   ]
  },
  {
   "cell_type": "markdown",
   "id": "94e92844",
   "metadata": {},
   "source": [
    "<h3>Anomaly Detection</h3>\n",
    "\n",
    "<p>True or false? When training a learning algorithm to perform anomaly detection, we need at least one observation of the anomalous class.\n",
    "    \n",
    "Answer: True</p>"
   ]
  }
 ],
 "metadata": {
  "kernelspec": {
   "display_name": "Python 3",
   "language": "python",
   "name": "python3"
  },
  "language_info": {
   "codemirror_mode": {
    "name": "ipython",
    "version": 3
   },
   "file_extension": ".py",
   "mimetype": "text/x-python",
   "name": "python",
   "nbconvert_exporter": "python",
   "pygments_lexer": "ipython3",
   "version": "3.8.8"
  }
 },
 "nbformat": 4,
 "nbformat_minor": 5
}
