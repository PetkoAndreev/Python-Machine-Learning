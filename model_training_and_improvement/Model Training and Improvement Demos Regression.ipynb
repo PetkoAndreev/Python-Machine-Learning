{
 "cells": [
  {
   "cell_type": "code",
   "execution_count": 1,
   "id": "121bdb28",
   "metadata": {},
   "outputs": [],
   "source": [
    "%matplotlib inline"
   ]
  },
  {
   "cell_type": "code",
   "execution_count": 2,
   "id": "2c51eb4b",
   "metadata": {},
   "outputs": [],
   "source": [
    "import numpy as np\n",
    "import pandas as pd\n",
    "import matplotlib.pyplot as plt\n",
    "\n",
    "from sklearn.preprocessing import MinMaxScaler\n",
    "\n",
    "from sklearn.model_selection import train_test_split\n",
    "\n",
    "from sklearn.linear_model import LinearRegression, Ridge, Lasso, ElasticNet"
   ]
  },
  {
   "cell_type": "markdown",
   "id": "befca988",
   "metadata": {},
   "source": [
    "<h1>Model Training and Improvement - Regression</h1>"
   ]
  },
  {
   "cell_type": "code",
   "execution_count": 3,
   "id": "d8ad2834",
   "metadata": {},
   "outputs": [],
   "source": [
    "mpg_data = pd.read_fwf(\"data/autompg/auto-mpg.data\", header = None, na_vals = [\"?\"])"
   ]
  },
  {
   "cell_type": "code",
   "execution_count": 4,
   "id": "c94e852d",
   "metadata": {},
   "outputs": [],
   "source": [
    "mpg_data.columns = [\"mpg\", \"cylinders\", \"displacement\", \"horsepower\", \"weight\", \"acceleration\", \"model year\", \"origin\", \"car name\"]"
   ]
  },
  {
   "cell_type": "code",
   "execution_count": 5,
   "id": "8801473f",
   "metadata": {},
   "outputs": [
    {
     "data": {
      "text/plain": [
       "mpg             float64\n",
       "cylinders         int64\n",
       "displacement    float64\n",
       "horsepower       object\n",
       "weight          float64\n",
       "acceleration    float64\n",
       "model year        int64\n",
       "origin            int64\n",
       "car name         object\n",
       "dtype: object"
      ]
     },
     "execution_count": 5,
     "metadata": {},
     "output_type": "execute_result"
    }
   ],
   "source": [
    "mpg_data.dtypes"
   ]
  },
  {
   "cell_type": "code",
   "execution_count": 6,
   "id": "b6496997",
   "metadata": {},
   "outputs": [
    {
     "data": {
      "text/plain": [
       "array(['130.0', '165.0', '150.0', '140.0', '198.0', '220.0', '215.0',\n",
       "       '225.0', '190.0', '170.0', '160.0', '95.00', '97.00', '85.00',\n",
       "       '88.00', '46.00', '87.00', '90.00', '113.0', '200.0', '210.0',\n",
       "       '193.0', '?', '100.0', '105.0', '175.0', '153.0', '180.0', '110.0',\n",
       "       '72.00', '86.00', '70.00', '76.00', '65.00', '69.00', '60.00',\n",
       "       '80.00', '54.00', '208.0', '155.0', '112.0', '92.00', '145.0',\n",
       "       '137.0', '158.0', '167.0', '94.00', '107.0', '230.0', '49.00',\n",
       "       '75.00', '91.00', '122.0', '67.00', '83.00', '78.00', '52.00',\n",
       "       '61.00', '93.00', '148.0', '129.0', '96.00', '71.00', '98.00',\n",
       "       '115.0', '53.00', '81.00', '79.00', '120.0', '152.0', '102.0',\n",
       "       '108.0', '68.00', '58.00', '149.0', '89.00', '63.00', '48.00',\n",
       "       '66.00', '139.0', '103.0', '125.0', '133.0', '138.0', '135.0',\n",
       "       '142.0', '77.00', '62.00', '132.0', '84.00', '64.00', '74.00',\n",
       "       '116.0', '82.00'], dtype=object)"
      ]
     },
     "execution_count": 6,
     "metadata": {},
     "output_type": "execute_result"
    }
   ],
   "source": [
    "mpg_data.horsepower.unique()"
   ]
  },
  {
   "cell_type": "code",
   "execution_count": 7,
   "id": "50dc80f4",
   "metadata": {},
   "outputs": [],
   "source": [
    "mpg_data = mpg_data.drop(mpg_data[mpg_data.horsepower == \"?\"].index)"
   ]
  },
  {
   "cell_type": "code",
   "execution_count": 8,
   "id": "14809297",
   "metadata": {},
   "outputs": [],
   "source": [
    "mpg_data.horsepower = mpg_data.horsepower.astype(float)"
   ]
  },
  {
   "cell_type": "code",
   "execution_count": 9,
   "id": "9ad73ae5",
   "metadata": {},
   "outputs": [
    {
     "data": {
      "text/plain": [
       "mpg             float64\n",
       "cylinders         int64\n",
       "displacement    float64\n",
       "horsepower      float64\n",
       "weight          float64\n",
       "acceleration    float64\n",
       "model year        int64\n",
       "origin            int64\n",
       "car name         object\n",
       "dtype: object"
      ]
     },
     "execution_count": 9,
     "metadata": {},
     "output_type": "execute_result"
    }
   ],
   "source": [
    "mpg_data.dtypes"
   ]
  },
  {
   "cell_type": "code",
   "execution_count": 10,
   "id": "c7149280",
   "metadata": {},
   "outputs": [
    {
     "data": {
      "text/plain": [
       "(392, 9)"
      ]
     },
     "execution_count": 10,
     "metadata": {},
     "output_type": "execute_result"
    }
   ],
   "source": [
    "mpg_data.shape"
   ]
  },
  {
   "cell_type": "code",
   "execution_count": 11,
   "id": "0487f0b9",
   "metadata": {},
   "outputs": [],
   "source": [
    "mpg_data = mpg_data.drop(\"car name\", axis = 1)"
   ]
  },
  {
   "cell_type": "code",
   "execution_count": 12,
   "id": "64679018",
   "metadata": {},
   "outputs": [],
   "source": [
    "mpg_data_attributes = mpg_data.drop(\"mpg\", axis = 1)\n",
    "mpg_data_target = mpg_data[\"mpg\"]"
   ]
  },
  {
   "cell_type": "code",
   "execution_count": 13,
   "id": "5ccadb51",
   "metadata": {},
   "outputs": [],
   "source": [
    "mpg_data_attributes_scaled = MinMaxScaler().fit_transform(mpg_data_attributes)"
   ]
  },
  {
   "cell_type": "code",
   "execution_count": 14,
   "id": "d9ace26c",
   "metadata": {},
   "outputs": [
    {
     "data": {
      "text/plain": [
       "(array([0., 0., 0., 0., 0., 0., 0.]), array([1., 1., 1., 1., 1., 1., 1.]))"
      ]
     },
     "execution_count": 14,
     "metadata": {},
     "output_type": "execute_result"
    }
   ],
   "source": [
    "mpg_data_attributes_scaled.min(axis = 0), mpg_data_attributes_scaled.max(axis = 0)"
   ]
  },
  {
   "cell_type": "code",
   "execution_count": 15,
   "id": "e1a27ede",
   "metadata": {},
   "outputs": [
    {
     "data": {
      "text/plain": [
       "LinearRegression()"
      ]
     },
     "execution_count": 15,
     "metadata": {},
     "output_type": "execute_result"
    }
   ],
   "source": [
    "linear_regression = LinearRegression()\n",
    "linear_regression.fit(mpg_data_attributes_scaled, mpg_data_target)"
   ]
  },
  {
   "cell_type": "code",
   "execution_count": 16,
   "id": "b8b4157d",
   "metadata": {},
   "outputs": [
    {
     "data": {
      "text/plain": [
       "0.8214780764810597"
      ]
     },
     "execution_count": 16,
     "metadata": {},
     "output_type": "execute_result"
    }
   ],
   "source": [
    "linear_regression.score(mpg_data_attributes_scaled, mpg_data_target)"
   ]
  },
  {
   "cell_type": "code",
   "execution_count": 17,
   "id": "d425f6b7",
   "metadata": {},
   "outputs": [
    {
     "data": {
      "text/plain": [
       "Ridge()"
      ]
     },
     "execution_count": 17,
     "metadata": {},
     "output_type": "execute_result"
    }
   ],
   "source": [
    "l2_regression = Ridge()\n",
    "l2_regression.fit(mpg_data_attributes_scaled, mpg_data_target)"
   ]
  },
  {
   "cell_type": "code",
   "execution_count": 18,
   "id": "dd4b24c2",
   "metadata": {},
   "outputs": [
    {
     "data": {
      "text/plain": [
       "0.8164896635931875"
      ]
     },
     "execution_count": 18,
     "metadata": {},
     "output_type": "execute_result"
    }
   ],
   "source": [
    "l2_regression.score(mpg_data_attributes_scaled, mpg_data_target)"
   ]
  },
  {
   "cell_type": "code",
   "execution_count": 19,
   "id": "5572c78c",
   "metadata": {},
   "outputs": [
    {
     "data": {
      "text/plain": [
       "Lasso(alpha=1)"
      ]
     },
     "execution_count": 19,
     "metadata": {},
     "output_type": "execute_result"
    }
   ],
   "source": [
    "l1_regression = Lasso(alpha = 1)\n",
    "l1_regression.fit(mpg_data_attributes_scaled, mpg_data_target)"
   ]
  },
  {
   "cell_type": "code",
   "execution_count": 20,
   "id": "38a9ced0",
   "metadata": {},
   "outputs": [
    {
     "data": {
      "text/plain": [
       "0.4854235870676168"
      ]
     },
     "execution_count": 20,
     "metadata": {},
     "output_type": "execute_result"
    }
   ],
   "source": [
    "l1_regression.score(mpg_data_attributes_scaled, mpg_data_target)"
   ]
  },
  {
   "cell_type": "code",
   "execution_count": 21,
   "id": "2ebc34e4",
   "metadata": {},
   "outputs": [
    {
     "data": {
      "text/plain": [
       "0.03763516750331597"
      ]
     },
     "execution_count": 21,
     "metadata": {},
     "output_type": "execute_result"
    }
   ],
   "source": [
    "l1_regression = Lasso(alpha = 2)\n",
    "l1_regression.fit(mpg_data_attributes_scaled, mpg_data_target)\n",
    "l1_regression.score(mpg_data_attributes_scaled, mpg_data_target)"
   ]
  },
  {
   "cell_type": "code",
   "execution_count": 22,
   "id": "16ebf35d",
   "metadata": {},
   "outputs": [
    {
     "data": {
      "text/plain": [
       "(array([-0.56252032, -0.        , -0.        , -0.        ,  0.        ,\n",
       "         0.        ,  0.        ]),\n",
       " 23.724021525870285)"
      ]
     },
     "execution_count": 22,
     "metadata": {},
     "output_type": "execute_result"
    }
   ],
   "source": [
    "l1_regression.coef_, l1_regression.intercept_"
   ]
  },
  {
   "cell_type": "code",
   "execution_count": 23,
   "id": "ec51d2a4",
   "metadata": {},
   "outputs": [
    {
     "data": {
      "text/plain": [
       "Index(['mpg', 'cylinders', 'displacement', 'horsepower', 'weight',\n",
       "       'acceleration', 'model year', 'origin'],\n",
       "      dtype='object')"
      ]
     },
     "execution_count": 23,
     "metadata": {},
     "output_type": "execute_result"
    }
   ],
   "source": [
    "mpg_data.columns"
   ]
  },
  {
   "cell_type": "code",
   "execution_count": 24,
   "id": "ea1072a6",
   "metadata": {},
   "outputs": [],
   "source": [
    "mpg_data_attributes_scaled_train, mpg_data_attributes_scaled_test, mpg_data_target_train, mpg_data_target_test = train_test_split(mpg_data_attributes_scaled, mpg_data_target, train_size = 0.7, random_state = 42)"
   ]
  },
  {
   "cell_type": "code",
   "execution_count": 25,
   "id": "f75b0f86",
   "metadata": {},
   "outputs": [
    {
     "data": {
      "text/plain": [
       "((274, 7), (118, 7))"
      ]
     },
     "execution_count": 25,
     "metadata": {},
     "output_type": "execute_result"
    }
   ],
   "source": [
    "mpg_data_attributes_scaled_train.shape, mpg_data_attributes_scaled_test.shape"
   ]
  },
  {
   "cell_type": "code",
   "execution_count": 26,
   "id": "96fc4ee1",
   "metadata": {},
   "outputs": [
    {
     "data": {
      "text/plain": [
       "((274,), (118,))"
      ]
     },
     "execution_count": 26,
     "metadata": {},
     "output_type": "execute_result"
    }
   ],
   "source": [
    "mpg_data_target_train.shape, mpg_data_target_test.shape"
   ]
  },
  {
   "cell_type": "code",
   "execution_count": 27,
   "id": "1179cb08",
   "metadata": {},
   "outputs": [
    {
     "data": {
      "text/plain": [
       "LinearRegression()"
      ]
     },
     "execution_count": 27,
     "metadata": {},
     "output_type": "execute_result"
    }
   ],
   "source": [
    "linear_regression = LinearRegression()\n",
    "linear_regression.fit(mpg_data_attributes_scaled_train, mpg_data_target_train)"
   ]
  },
  {
   "cell_type": "code",
   "execution_count": 28,
   "id": "652efe90",
   "metadata": {},
   "outputs": [
    {
     "data": {
      "text/plain": [
       "0.8221075220232332"
      ]
     },
     "execution_count": 28,
     "metadata": {},
     "output_type": "execute_result"
    }
   ],
   "source": [
    "linear_regression.score(mpg_data_attributes_scaled_train, mpg_data_target_train)"
   ]
  },
  {
   "cell_type": "code",
   "execution_count": 29,
   "id": "9414104b",
   "metadata": {},
   "outputs": [
    {
     "data": {
      "text/plain": [
       "0.8097361276184126"
      ]
     },
     "execution_count": 29,
     "metadata": {},
     "output_type": "execute_result"
    }
   ],
   "source": [
    "linear_regression.score(mpg_data_attributes_scaled_test, mpg_data_target_test)"
   ]
  },
  {
   "cell_type": "code",
   "execution_count": 30,
   "id": "1da873c2",
   "metadata": {},
   "outputs": [],
   "source": [
    "predicted_mpgs = linear_regression.predict(mpg_data_attributes_scaled_test)"
   ]
  },
  {
   "cell_type": "code",
   "execution_count": 34,
   "id": "62cb790c",
   "metadata": {},
   "outputs": [
    {
     "data": {
      "image/png": "[encoded data removed]",
      "text/plain": [
       "<Figure size 432x288 with 1 Axes>"
      ]
     },
     "metadata": {
      "needs_background": "light"
     },
     "output_type": "display_data"
    }
   ],
   "source": [
    "plt.hist(mpg_data_target_test, alpha = 0.7)\n",
    "plt.hist(predicted_mpgs, alpha = 0.7)\n",
    "plt.show()"
   ]
  },
  {
   "cell_type": "code",
   "execution_count": 36,
   "id": "fe605235",
   "metadata": {},
   "outputs": [
    {
     "data": {
      "image/png": "[encoded data removed]",
      "text/plain": [
       "<Figure size 432x288 with 1 Axes>"
      ]
     },
     "metadata": {
      "needs_background": "light"
     },
     "output_type": "display_data"
    }
   ],
   "source": [
    "plt.hist(predicted_mpgs - mpg_data_target_test, bins = 'fd')\n",
    "plt.axvline([0], c = 'r')\n",
    "plt.show()"
   ]
  },
  {
   "cell_type": "code",
   "execution_count": 39,
   "id": "97cd2d67",
   "metadata": {},
   "outputs": [
    {
     "data": {
      "image/png": "[encoded data removed]",
      "text/plain": [
       "<Figure size 432x288 with 1 Axes>"
      ]
     },
     "metadata": {
      "needs_background": "light"
     },
     "output_type": "display_data"
    }
   ],
   "source": [
    "plt.scatter(mpg_data_target_test, predicted_mpgs)\n",
    "plt.xlabel('Actual')\n",
    "plt.ylabel('Predicted')\n",
    "plt.show()"
   ]
  },
  {
   "cell_type": "code",
   "execution_count": 41,
   "id": "eecafd72",
   "metadata": {},
   "outputs": [
    {
     "data": {
      "image/png": "[encoded data removed]",
      "text/plain": [
       "<Figure size 432x288 with 1 Axes>"
      ]
     },
     "metadata": {
      "needs_background": "light"
     },
     "output_type": "display_data"
    }
   ],
   "source": [
    "plt.scatter(predicted_mpgs, predicted_mpgs - mpg_data_target_test)\n",
    "plt.xlabel('Predicted')\n",
    "plt.ylabel('Residual')\n",
    "plt.axhline([0], c = 'r')\n",
    "plt.show()"
   ]
  },
  {
   "cell_type": "code",
   "execution_count": null,
   "id": "6c2d76c8",
   "metadata": {},
   "outputs": [],
   "source": []
  }
 ],
 "metadata": {
  "kernelspec": {
   "display_name": "Python 3",
   "language": "python",
   "name": "python3"
  },
  "language_info": {
   "codemirror_mode": {
    "name": "ipython",
    "version": 3
   },
   "file_extension": ".py",
   "mimetype": "text/x-python",
   "name": "python",
   "nbconvert_exporter": "python",
   "pygments_lexer": "ipython3",
   "version": "3.8.8"
  }
 },
 "nbformat": 4,
 "nbformat_minor": 5
}
