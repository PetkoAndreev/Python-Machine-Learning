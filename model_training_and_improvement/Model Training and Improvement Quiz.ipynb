{
 "cells": [
  {
   "cell_type": "code",
   "execution_count": 2,
   "id": "05e0c426",
   "metadata": {},
   "outputs": [],
   "source": [
    "%matplotlib inline"
   ]
  },
  {
   "cell_type": "code",
   "execution_count": 1,
   "id": "80d6695e",
   "metadata": {},
   "outputs": [],
   "source": [
    "import numpy as np\n",
    "import pandas as pd\n",
    "import matplotlib.pyplot as plt"
   ]
  },
  {
   "cell_type": "markdown",
   "id": "7adb3aab",
   "metadata": {},
   "source": [
    "<h1>Model Training and Improvement Quiz</h1>"
   ]
  },
  {
   "cell_type": "markdown",
   "id": "54903b6b",
   "metadata": {},
   "source": [
    "<h3>Model Diagnostics</h3>\n",
    "\n",
    "<p>Suppose you train a model to predict temperature for a given day (regression). The model performs somewhat well on the training data but not enough. Its performance on the testing data is slightly better but still far from what you desire. What is the problem most likely to be?\n",
    "\n",
    "Answer: High bias</p>"
   ]
  },
  {
   "cell_type": "markdown",
   "id": "f18e9d4b",
   "metadata": {},
   "source": [
    "<h3>Regularization</h3>\n",
    "\n",
    "<p>You've got a dataset with two features. You train two logistic regression models: model1 (C = 100), and model2 (C = 1). One model returns the following weights: [31.29, 28.14], the other's weights are [1.12, 3.46]. Which model is the SECOND set of weights more likely to correspond to and why?\n",
    "    \n",
    "Answer: model2 because it has high regularization    \n",
    "</p>"
   ]
  },
  {
   "cell_type": "markdown",
   "id": "623ff0da",
   "metadata": {},
   "source": [
    "<h3>Regularization Coefficient</h3>\n",
    "\n",
    "<p>Which of the following are true about the regularization coefficient lambda?\n",
    "\n",
    "Answer: Using a value that is too small may lead to underfitting, Using a value that is too large may lead to overfitting</p>"
   ]
  },
  {
   "cell_type": "markdown",
   "id": "2af8ce29",
   "metadata": {},
   "source": [
    "<h3>Bias and Variance</h3>\n",
    "\n",
    "<p>Which of the following are true?\n",
    "Answer: Plotting a learning curve is not enough to diagnose high bias or high variance, When an algorithm has much lower training set error than test set error, it suffers from high variance</p>"
   ]
  },
  {
   "cell_type": "markdown",
   "id": "d5c5c4bd",
   "metadata": {},
   "source": [
    "<h3>Classification Metrics</h3>\n",
    "<p>You want to train a model to recognize spam messages. The data you've got contains 92% non-spam messages (class 0, negative) and 8% spam messages (class 1, positive). Which of the following are true?\n",
    "Answer: For a model that always outputs class 0, the recall is is 100%, For a model that always outputs class 1, the precision is is 8%, For a model that always outputs class 0, the accuracy is 92%</p>"
   ]
  }
 ],
 "metadata": {
  "kernelspec": {
   "display_name": "Python 3",
   "language": "python",
   "name": "python3"
  },
  "language_info": {
   "codemirror_mode": {
    "name": "ipython",
    "version": 3
   },
   "file_extension": ".py",
   "mimetype": "text/x-python",
   "name": "python",
   "nbconvert_exporter": "python",
   "pygments_lexer": "ipython3",
   "version": "3.8.8"
  }
 },
 "nbformat": 4,
 "nbformat_minor": 5
}
