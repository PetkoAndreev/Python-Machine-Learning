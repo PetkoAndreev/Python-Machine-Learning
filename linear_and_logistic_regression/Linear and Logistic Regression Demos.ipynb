{
 "cells": [
  {
   "cell_type": "code",
   "execution_count": 1,
   "id": "bcce8ff1",
   "metadata": {},
   "outputs": [],
   "source": [
    "%matplotlib inline"
   ]
  },
  {
   "cell_type": "code",
   "execution_count": 2,
   "id": "05827896",
   "metadata": {},
   "outputs": [],
   "source": [
    "import numpy as np\n",
    "import pandas as pd\n",
    "import matplotlib.pyplot as plt\n",
    "\n",
    "from sklearn.preprocessing import MinMaxScaler, PolynomialFeatures\n",
    "\n",
    "from sklearn.linear_model import LinearRegression, RANSACRegressor, LogisticRegression"
   ]
  },
  {
   "cell_type": "markdown",
   "id": "26ccfd96",
   "metadata": {},
   "source": [
    "<h1>Linear and Logistic Regression Demos</h1>"
   ]
  },
  {
   "cell_type": "code",
   "execution_count": 3,
   "id": "2a89bbe7",
   "metadata": {},
   "outputs": [],
   "source": [
    "housing = pd.read_fwf(\"https://archive.ics.uci.edu/ml/machine-learning-databases/housing/housing.data\", header = None)"
   ]
  },
  {
   "cell_type": "code",
   "execution_count": 4,
   "id": "7c52290f",
   "metadata": {},
   "outputs": [
    {
     "data": {
      "text/html": [
       "<div>\n",
       "<style scoped>\n",
       "    .dataframe tbody tr th:only-of-type {\n",
       "        vertical-align: middle;\n",
       "    }\n",
       "\n",
       "    .dataframe tbody tr th {\n",
       "        vertical-align: top;\n",
       "    }\n",
       "\n",
       "    .dataframe thead th {\n",
       "        text-align: right;\n",
       "    }\n",
       "</style>\n",
       "<table border=\"1\" class=\"dataframe\">\n",
       "  <thead>\n",
       "    <tr style=\"text-align: right;\">\n",
       "      <th></th>\n",
       "      <th>0</th>\n",
       "      <th>1</th>\n",
       "      <th>2</th>\n",
       "      <th>3</th>\n",
       "      <th>4</th>\n",
       "      <th>5</th>\n",
       "      <th>6</th>\n",
       "      <th>7</th>\n",
       "      <th>8</th>\n",
       "      <th>9</th>\n",
       "      <th>10</th>\n",
       "      <th>11</th>\n",
       "      <th>12</th>\n",
       "      <th>13</th>\n",
       "    </tr>\n",
       "  </thead>\n",
       "  <tbody>\n",
       "    <tr>\n",
       "      <th>0</th>\n",
       "      <td>0.00632</td>\n",
       "      <td>18.0</td>\n",
       "      <td>2.31</td>\n",
       "      <td>0</td>\n",
       "      <td>0.538</td>\n",
       "      <td>6.575</td>\n",
       "      <td>65.2</td>\n",
       "      <td>4.0900</td>\n",
       "      <td>1</td>\n",
       "      <td>296.0</td>\n",
       "      <td>15.3</td>\n",
       "      <td>396.90</td>\n",
       "      <td>4.98</td>\n",
       "      <td>24.0</td>\n",
       "    </tr>\n",
       "    <tr>\n",
       "      <th>1</th>\n",
       "      <td>0.02731</td>\n",
       "      <td>0.0</td>\n",
       "      <td>7.07</td>\n",
       "      <td>0</td>\n",
       "      <td>0.469</td>\n",
       "      <td>6.421</td>\n",
       "      <td>78.9</td>\n",
       "      <td>4.9671</td>\n",
       "      <td>2</td>\n",
       "      <td>242.0</td>\n",
       "      <td>17.8</td>\n",
       "      <td>396.90</td>\n",
       "      <td>9.14</td>\n",
       "      <td>21.6</td>\n",
       "    </tr>\n",
       "    <tr>\n",
       "      <th>2</th>\n",
       "      <td>0.02729</td>\n",
       "      <td>0.0</td>\n",
       "      <td>7.07</td>\n",
       "      <td>0</td>\n",
       "      <td>0.469</td>\n",
       "      <td>7.185</td>\n",
       "      <td>61.1</td>\n",
       "      <td>4.9671</td>\n",
       "      <td>2</td>\n",
       "      <td>242.0</td>\n",
       "      <td>17.8</td>\n",
       "      <td>392.83</td>\n",
       "      <td>4.03</td>\n",
       "      <td>34.7</td>\n",
       "    </tr>\n",
       "    <tr>\n",
       "      <th>3</th>\n",
       "      <td>0.03237</td>\n",
       "      <td>0.0</td>\n",
       "      <td>2.18</td>\n",
       "      <td>0</td>\n",
       "      <td>0.458</td>\n",
       "      <td>6.998</td>\n",
       "      <td>45.8</td>\n",
       "      <td>6.0622</td>\n",
       "      <td>3</td>\n",
       "      <td>222.0</td>\n",
       "      <td>18.7</td>\n",
       "      <td>394.63</td>\n",
       "      <td>2.94</td>\n",
       "      <td>33.4</td>\n",
       "    </tr>\n",
       "    <tr>\n",
       "      <th>4</th>\n",
       "      <td>0.06905</td>\n",
       "      <td>0.0</td>\n",
       "      <td>2.18</td>\n",
       "      <td>0</td>\n",
       "      <td>0.458</td>\n",
       "      <td>7.147</td>\n",
       "      <td>54.2</td>\n",
       "      <td>6.0622</td>\n",
       "      <td>3</td>\n",
       "      <td>222.0</td>\n",
       "      <td>18.7</td>\n",
       "      <td>396.90</td>\n",
       "      <td>5.33</td>\n",
       "      <td>36.2</td>\n",
       "    </tr>\n",
       "    <tr>\n",
       "      <th>...</th>\n",
       "      <td>...</td>\n",
       "      <td>...</td>\n",
       "      <td>...</td>\n",
       "      <td>...</td>\n",
       "      <td>...</td>\n",
       "      <td>...</td>\n",
       "      <td>...</td>\n",
       "      <td>...</td>\n",
       "      <td>...</td>\n",
       "      <td>...</td>\n",
       "      <td>...</td>\n",
       "      <td>...</td>\n",
       "      <td>...</td>\n",
       "      <td>...</td>\n",
       "    </tr>\n",
       "    <tr>\n",
       "      <th>501</th>\n",
       "      <td>0.06263</td>\n",
       "      <td>0.0</td>\n",
       "      <td>11.93</td>\n",
       "      <td>0</td>\n",
       "      <td>0.573</td>\n",
       "      <td>6.593</td>\n",
       "      <td>69.1</td>\n",
       "      <td>2.4786</td>\n",
       "      <td>1</td>\n",
       "      <td>273.0</td>\n",
       "      <td>21.0</td>\n",
       "      <td>391.99</td>\n",
       "      <td>9.67</td>\n",
       "      <td>22.4</td>\n",
       "    </tr>\n",
       "    <tr>\n",
       "      <th>502</th>\n",
       "      <td>0.04527</td>\n",
       "      <td>0.0</td>\n",
       "      <td>11.93</td>\n",
       "      <td>0</td>\n",
       "      <td>0.573</td>\n",
       "      <td>6.120</td>\n",
       "      <td>76.7</td>\n",
       "      <td>2.2875</td>\n",
       "      <td>1</td>\n",
       "      <td>273.0</td>\n",
       "      <td>21.0</td>\n",
       "      <td>396.90</td>\n",
       "      <td>9.08</td>\n",
       "      <td>20.6</td>\n",
       "    </tr>\n",
       "    <tr>\n",
       "      <th>503</th>\n",
       "      <td>0.06076</td>\n",
       "      <td>0.0</td>\n",
       "      <td>11.93</td>\n",
       "      <td>0</td>\n",
       "      <td>0.573</td>\n",
       "      <td>6.976</td>\n",
       "      <td>91.0</td>\n",
       "      <td>2.1675</td>\n",
       "      <td>1</td>\n",
       "      <td>273.0</td>\n",
       "      <td>21.0</td>\n",
       "      <td>396.90</td>\n",
       "      <td>5.64</td>\n",
       "      <td>23.9</td>\n",
       "    </tr>\n",
       "    <tr>\n",
       "      <th>504</th>\n",
       "      <td>0.10959</td>\n",
       "      <td>0.0</td>\n",
       "      <td>11.93</td>\n",
       "      <td>0</td>\n",
       "      <td>0.573</td>\n",
       "      <td>6.794</td>\n",
       "      <td>89.3</td>\n",
       "      <td>2.3889</td>\n",
       "      <td>1</td>\n",
       "      <td>273.0</td>\n",
       "      <td>21.0</td>\n",
       "      <td>393.45</td>\n",
       "      <td>6.48</td>\n",
       "      <td>22.0</td>\n",
       "    </tr>\n",
       "    <tr>\n",
       "      <th>505</th>\n",
       "      <td>0.04741</td>\n",
       "      <td>0.0</td>\n",
       "      <td>11.93</td>\n",
       "      <td>0</td>\n",
       "      <td>0.573</td>\n",
       "      <td>6.030</td>\n",
       "      <td>80.8</td>\n",
       "      <td>2.5050</td>\n",
       "      <td>1</td>\n",
       "      <td>273.0</td>\n",
       "      <td>21.0</td>\n",
       "      <td>396.90</td>\n",
       "      <td>7.88</td>\n",
       "      <td>11.9</td>\n",
       "    </tr>\n",
       "  </tbody>\n",
       "</table>\n",
       "<p>506 rows × 14 columns</p>\n",
       "</div>"
      ],
      "text/plain": [
       "          0     1      2   3      4      5     6       7   8      9     10  \\\n",
       "0    0.00632  18.0   2.31   0  0.538  6.575  65.2  4.0900   1  296.0  15.3   \n",
       "1    0.02731   0.0   7.07   0  0.469  6.421  78.9  4.9671   2  242.0  17.8   \n",
       "2    0.02729   0.0   7.07   0  0.469  7.185  61.1  4.9671   2  242.0  17.8   \n",
       "3    0.03237   0.0   2.18   0  0.458  6.998  45.8  6.0622   3  222.0  18.7   \n",
       "4    0.06905   0.0   2.18   0  0.458  7.147  54.2  6.0622   3  222.0  18.7   \n",
       "..       ...   ...    ...  ..    ...    ...   ...     ...  ..    ...   ...   \n",
       "501  0.06263   0.0  11.93   0  0.573  6.593  69.1  2.4786   1  273.0  21.0   \n",
       "502  0.04527   0.0  11.93   0  0.573  6.120  76.7  2.2875   1  273.0  21.0   \n",
       "503  0.06076   0.0  11.93   0  0.573  6.976  91.0  2.1675   1  273.0  21.0   \n",
       "504  0.10959   0.0  11.93   0  0.573  6.794  89.3  2.3889   1  273.0  21.0   \n",
       "505  0.04741   0.0  11.93   0  0.573  6.030  80.8  2.5050   1  273.0  21.0   \n",
       "\n",
       "         11    12    13  \n",
       "0    396.90  4.98  24.0  \n",
       "1    396.90  9.14  21.6  \n",
       "2    392.83  4.03  34.7  \n",
       "3    394.63  2.94  33.4  \n",
       "4    396.90  5.33  36.2  \n",
       "..      ...   ...   ...  \n",
       "501  391.99  9.67  22.4  \n",
       "502  396.90  9.08  20.6  \n",
       "503  396.90  5.64  23.9  \n",
       "504  393.45  6.48  22.0  \n",
       "505  396.90  7.88  11.9  \n",
       "\n",
       "[506 rows x 14 columns]"
      ]
     },
     "execution_count": 4,
     "metadata": {},
     "output_type": "execute_result"
    }
   ],
   "source": [
    "housing"
   ]
  },
  {
   "cell_type": "code",
   "execution_count": 5,
   "id": "65cd0a39",
   "metadata": {},
   "outputs": [],
   "source": [
    "housing.columns = [\"crime_rate\", \"zoned_land\", \"industry\", \"bounds_river\", \"nox_conc\", \"rooms\", \"age\", \"distance\",  \"highways\", \"tax\", \"pt_ratio\", \"b_estimator\", \"pop_status\", \"price\"]"
   ]
  },
  {
   "cell_type": "code",
   "execution_count": 6,
   "id": "74d122d6",
   "metadata": {},
   "outputs": [
    {
     "data": {
      "text/html": [
       "<div>\n",
       "<style scoped>\n",
       "    .dataframe tbody tr th:only-of-type {\n",
       "        vertical-align: middle;\n",
       "    }\n",
       "\n",
       "    .dataframe tbody tr th {\n",
       "        vertical-align: top;\n",
       "    }\n",
       "\n",
       "    .dataframe thead th {\n",
       "        text-align: right;\n",
       "    }\n",
       "</style>\n",
       "<table border=\"1\" class=\"dataframe\">\n",
       "  <thead>\n",
       "    <tr style=\"text-align: right;\">\n",
       "      <th></th>\n",
       "      <th>crime_rate</th>\n",
       "      <th>zoned_land</th>\n",
       "      <th>industry</th>\n",
       "      <th>bounds_river</th>\n",
       "      <th>nox_conc</th>\n",
       "      <th>rooms</th>\n",
       "      <th>age</th>\n",
       "      <th>distance</th>\n",
       "      <th>highways</th>\n",
       "      <th>tax</th>\n",
       "      <th>pt_ratio</th>\n",
       "      <th>b_estimator</th>\n",
       "      <th>pop_status</th>\n",
       "      <th>price</th>\n",
       "    </tr>\n",
       "  </thead>\n",
       "  <tbody>\n",
       "    <tr>\n",
       "      <th>0</th>\n",
       "      <td>0.00632</td>\n",
       "      <td>18.0</td>\n",
       "      <td>2.31</td>\n",
       "      <td>0</td>\n",
       "      <td>0.538</td>\n",
       "      <td>6.575</td>\n",
       "      <td>65.2</td>\n",
       "      <td>4.0900</td>\n",
       "      <td>1</td>\n",
       "      <td>296.0</td>\n",
       "      <td>15.3</td>\n",
       "      <td>396.90</td>\n",
       "      <td>4.98</td>\n",
       "      <td>24.0</td>\n",
       "    </tr>\n",
       "    <tr>\n",
       "      <th>1</th>\n",
       "      <td>0.02731</td>\n",
       "      <td>0.0</td>\n",
       "      <td>7.07</td>\n",
       "      <td>0</td>\n",
       "      <td>0.469</td>\n",
       "      <td>6.421</td>\n",
       "      <td>78.9</td>\n",
       "      <td>4.9671</td>\n",
       "      <td>2</td>\n",
       "      <td>242.0</td>\n",
       "      <td>17.8</td>\n",
       "      <td>396.90</td>\n",
       "      <td>9.14</td>\n",
       "      <td>21.6</td>\n",
       "    </tr>\n",
       "    <tr>\n",
       "      <th>2</th>\n",
       "      <td>0.02729</td>\n",
       "      <td>0.0</td>\n",
       "      <td>7.07</td>\n",
       "      <td>0</td>\n",
       "      <td>0.469</td>\n",
       "      <td>7.185</td>\n",
       "      <td>61.1</td>\n",
       "      <td>4.9671</td>\n",
       "      <td>2</td>\n",
       "      <td>242.0</td>\n",
       "      <td>17.8</td>\n",
       "      <td>392.83</td>\n",
       "      <td>4.03</td>\n",
       "      <td>34.7</td>\n",
       "    </tr>\n",
       "    <tr>\n",
       "      <th>3</th>\n",
       "      <td>0.03237</td>\n",
       "      <td>0.0</td>\n",
       "      <td>2.18</td>\n",
       "      <td>0</td>\n",
       "      <td>0.458</td>\n",
       "      <td>6.998</td>\n",
       "      <td>45.8</td>\n",
       "      <td>6.0622</td>\n",
       "      <td>3</td>\n",
       "      <td>222.0</td>\n",
       "      <td>18.7</td>\n",
       "      <td>394.63</td>\n",
       "      <td>2.94</td>\n",
       "      <td>33.4</td>\n",
       "    </tr>\n",
       "    <tr>\n",
       "      <th>4</th>\n",
       "      <td>0.06905</td>\n",
       "      <td>0.0</td>\n",
       "      <td>2.18</td>\n",
       "      <td>0</td>\n",
       "      <td>0.458</td>\n",
       "      <td>7.147</td>\n",
       "      <td>54.2</td>\n",
       "      <td>6.0622</td>\n",
       "      <td>3</td>\n",
       "      <td>222.0</td>\n",
       "      <td>18.7</td>\n",
       "      <td>396.90</td>\n",
       "      <td>5.33</td>\n",
       "      <td>36.2</td>\n",
       "    </tr>\n",
       "  </tbody>\n",
       "</table>\n",
       "</div>"
      ],
      "text/plain": [
       "   crime_rate  zoned_land  industry  bounds_river  nox_conc  rooms   age  \\\n",
       "0     0.00632        18.0      2.31             0     0.538  6.575  65.2   \n",
       "1     0.02731         0.0      7.07             0     0.469  6.421  78.9   \n",
       "2     0.02729         0.0      7.07             0     0.469  7.185  61.1   \n",
       "3     0.03237         0.0      2.18             0     0.458  6.998  45.8   \n",
       "4     0.06905         0.0      2.18             0     0.458  7.147  54.2   \n",
       "\n",
       "   distance  highways    tax  pt_ratio  b_estimator  pop_status  price  \n",
       "0    4.0900         1  296.0      15.3       396.90        4.98   24.0  \n",
       "1    4.9671         2  242.0      17.8       396.90        9.14   21.6  \n",
       "2    4.9671         2  242.0      17.8       392.83        4.03   34.7  \n",
       "3    6.0622         3  222.0      18.7       394.63        2.94   33.4  \n",
       "4    6.0622         3  222.0      18.7       396.90        5.33   36.2  "
      ]
     },
     "execution_count": 6,
     "metadata": {},
     "output_type": "execute_result"
    }
   ],
   "source": [
    "housing.head()"
   ]
  },
  {
   "cell_type": "code",
   "execution_count": 7,
   "id": "b6da5247",
   "metadata": {},
   "outputs": [
    {
     "data": {
      "text/html": [
       "<div>\n",
       "<style scoped>\n",
       "    .dataframe tbody tr th:only-of-type {\n",
       "        vertical-align: middle;\n",
       "    }\n",
       "\n",
       "    .dataframe tbody tr th {\n",
       "        vertical-align: top;\n",
       "    }\n",
       "\n",
       "    .dataframe thead th {\n",
       "        text-align: right;\n",
       "    }\n",
       "</style>\n",
       "<table border=\"1\" class=\"dataframe\">\n",
       "  <thead>\n",
       "    <tr style=\"text-align: right;\">\n",
       "      <th></th>\n",
       "      <th>count</th>\n",
       "      <th>mean</th>\n",
       "      <th>std</th>\n",
       "      <th>min</th>\n",
       "      <th>25%</th>\n",
       "      <th>50%</th>\n",
       "      <th>75%</th>\n",
       "      <th>max</th>\n",
       "    </tr>\n",
       "  </thead>\n",
       "  <tbody>\n",
       "    <tr>\n",
       "      <th>crime_rate</th>\n",
       "      <td>506.0</td>\n",
       "      <td>1.716290</td>\n",
       "      <td>2.653510</td>\n",
       "      <td>0.00632</td>\n",
       "      <td>0.0819</td>\n",
       "      <td>0.250895</td>\n",
       "      <td>2.326717</td>\n",
       "      <td>9.96654</td>\n",
       "    </tr>\n",
       "    <tr>\n",
       "      <th>zoned_land</th>\n",
       "      <td>506.0</td>\n",
       "      <td>11.363636</td>\n",
       "      <td>23.322453</td>\n",
       "      <td>0.00000</td>\n",
       "      <td>0.0000</td>\n",
       "      <td>0.000000</td>\n",
       "      <td>12.500000</td>\n",
       "      <td>100.00000</td>\n",
       "    </tr>\n",
       "    <tr>\n",
       "      <th>industry</th>\n",
       "      <td>506.0</td>\n",
       "      <td>11.136779</td>\n",
       "      <td>6.860353</td>\n",
       "      <td>0.46000</td>\n",
       "      <td>5.1900</td>\n",
       "      <td>9.690000</td>\n",
       "      <td>18.100000</td>\n",
       "      <td>27.74000</td>\n",
       "    </tr>\n",
       "    <tr>\n",
       "      <th>bounds_river</th>\n",
       "      <td>506.0</td>\n",
       "      <td>0.069170</td>\n",
       "      <td>0.253994</td>\n",
       "      <td>0.00000</td>\n",
       "      <td>0.0000</td>\n",
       "      <td>0.000000</td>\n",
       "      <td>0.000000</td>\n",
       "      <td>1.00000</td>\n",
       "    </tr>\n",
       "    <tr>\n",
       "      <th>nox_conc</th>\n",
       "      <td>506.0</td>\n",
       "      <td>0.554695</td>\n",
       "      <td>0.115878</td>\n",
       "      <td>0.38500</td>\n",
       "      <td>0.4490</td>\n",
       "      <td>0.538000</td>\n",
       "      <td>0.624000</td>\n",
       "      <td>0.87100</td>\n",
       "    </tr>\n",
       "    <tr>\n",
       "      <th>rooms</th>\n",
       "      <td>506.0</td>\n",
       "      <td>6.284634</td>\n",
       "      <td>0.702617</td>\n",
       "      <td>3.56100</td>\n",
       "      <td>5.8855</td>\n",
       "      <td>6.208500</td>\n",
       "      <td>6.623500</td>\n",
       "      <td>8.78000</td>\n",
       "    </tr>\n",
       "    <tr>\n",
       "      <th>age</th>\n",
       "      <td>506.0</td>\n",
       "      <td>68.574901</td>\n",
       "      <td>28.148861</td>\n",
       "      <td>2.90000</td>\n",
       "      <td>45.0250</td>\n",
       "      <td>77.500000</td>\n",
       "      <td>94.075000</td>\n",
       "      <td>100.00000</td>\n",
       "    </tr>\n",
       "    <tr>\n",
       "      <th>distance</th>\n",
       "      <td>506.0</td>\n",
       "      <td>3.696228</td>\n",
       "      <td>1.999689</td>\n",
       "      <td>0.58570</td>\n",
       "      <td>2.0737</td>\n",
       "      <td>3.107300</td>\n",
       "      <td>5.112625</td>\n",
       "      <td>9.22290</td>\n",
       "    </tr>\n",
       "    <tr>\n",
       "      <th>highways</th>\n",
       "      <td>506.0</td>\n",
       "      <td>4.332016</td>\n",
       "      <td>1.417166</td>\n",
       "      <td>1.00000</td>\n",
       "      <td>4.0000</td>\n",
       "      <td>4.000000</td>\n",
       "      <td>5.000000</td>\n",
       "      <td>8.00000</td>\n",
       "    </tr>\n",
       "    <tr>\n",
       "      <th>tax</th>\n",
       "      <td>506.0</td>\n",
       "      <td>408.237154</td>\n",
       "      <td>168.537116</td>\n",
       "      <td>187.00000</td>\n",
       "      <td>279.0000</td>\n",
       "      <td>330.000000</td>\n",
       "      <td>666.000000</td>\n",
       "      <td>711.00000</td>\n",
       "    </tr>\n",
       "    <tr>\n",
       "      <th>pt_ratio</th>\n",
       "      <td>506.0</td>\n",
       "      <td>18.455534</td>\n",
       "      <td>2.164946</td>\n",
       "      <td>12.60000</td>\n",
       "      <td>17.4000</td>\n",
       "      <td>19.050000</td>\n",
       "      <td>20.200000</td>\n",
       "      <td>22.00000</td>\n",
       "    </tr>\n",
       "    <tr>\n",
       "      <th>b_estimator</th>\n",
       "      <td>506.0</td>\n",
       "      <td>356.674032</td>\n",
       "      <td>91.294864</td>\n",
       "      <td>0.32000</td>\n",
       "      <td>375.3775</td>\n",
       "      <td>391.440000</td>\n",
       "      <td>396.225000</td>\n",
       "      <td>396.90000</td>\n",
       "    </tr>\n",
       "    <tr>\n",
       "      <th>pop_status</th>\n",
       "      <td>506.0</td>\n",
       "      <td>12.653063</td>\n",
       "      <td>7.141062</td>\n",
       "      <td>1.73000</td>\n",
       "      <td>6.9500</td>\n",
       "      <td>11.360000</td>\n",
       "      <td>16.955000</td>\n",
       "      <td>37.97000</td>\n",
       "    </tr>\n",
       "    <tr>\n",
       "      <th>price</th>\n",
       "      <td>506.0</td>\n",
       "      <td>22.532806</td>\n",
       "      <td>9.197104</td>\n",
       "      <td>5.00000</td>\n",
       "      <td>17.0250</td>\n",
       "      <td>21.200000</td>\n",
       "      <td>25.000000</td>\n",
       "      <td>50.00000</td>\n",
       "    </tr>\n",
       "  </tbody>\n",
       "</table>\n",
       "</div>"
      ],
      "text/plain": [
       "              count        mean         std        min       25%         50%  \\\n",
       "crime_rate    506.0    1.716290    2.653510    0.00632    0.0819    0.250895   \n",
       "zoned_land    506.0   11.363636   23.322453    0.00000    0.0000    0.000000   \n",
       "industry      506.0   11.136779    6.860353    0.46000    5.1900    9.690000   \n",
       "bounds_river  506.0    0.069170    0.253994    0.00000    0.0000    0.000000   \n",
       "nox_conc      506.0    0.554695    0.115878    0.38500    0.4490    0.538000   \n",
       "rooms         506.0    6.284634    0.702617    3.56100    5.8855    6.208500   \n",
       "age           506.0   68.574901   28.148861    2.90000   45.0250   77.500000   \n",
       "distance      506.0    3.696228    1.999689    0.58570    2.0737    3.107300   \n",
       "highways      506.0    4.332016    1.417166    1.00000    4.0000    4.000000   \n",
       "tax           506.0  408.237154  168.537116  187.00000  279.0000  330.000000   \n",
       "pt_ratio      506.0   18.455534    2.164946   12.60000   17.4000   19.050000   \n",
       "b_estimator   506.0  356.674032   91.294864    0.32000  375.3775  391.440000   \n",
       "pop_status    506.0   12.653063    7.141062    1.73000    6.9500   11.360000   \n",
       "price         506.0   22.532806    9.197104    5.00000   17.0250   21.200000   \n",
       "\n",
       "                     75%        max  \n",
       "crime_rate      2.326717    9.96654  \n",
       "zoned_land     12.500000  100.00000  \n",
       "industry       18.100000   27.74000  \n",
       "bounds_river    0.000000    1.00000  \n",
       "nox_conc        0.624000    0.87100  \n",
       "rooms           6.623500    8.78000  \n",
       "age            94.075000  100.00000  \n",
       "distance        5.112625    9.22290  \n",
       "highways        5.000000    8.00000  \n",
       "tax           666.000000  711.00000  \n",
       "pt_ratio       20.200000   22.00000  \n",
       "b_estimator   396.225000  396.90000  \n",
       "pop_status     16.955000   37.97000  \n",
       "price          25.000000   50.00000  "
      ]
     },
     "execution_count": 7,
     "metadata": {},
     "output_type": "execute_result"
    }
   ],
   "source": [
    "housing.describe().T"
   ]
  },
  {
   "cell_type": "code",
   "execution_count": 8,
   "id": "926b1808",
   "metadata": {},
   "outputs": [
    {
     "data": {
      "text/plain": [
       "crime_rate      float64\n",
       "zoned_land      float64\n",
       "industry        float64\n",
       "bounds_river      int64\n",
       "nox_conc        float64\n",
       "rooms           float64\n",
       "age             float64\n",
       "distance        float64\n",
       "highways          int64\n",
       "tax             float64\n",
       "pt_ratio        float64\n",
       "b_estimator     float64\n",
       "pop_status      float64\n",
       "price           float64\n",
       "dtype: object"
      ]
     },
     "execution_count": 8,
     "metadata": {},
     "output_type": "execute_result"
    }
   ],
   "source": [
    "housing.dtypes"
   ]
  },
  {
   "cell_type": "code",
   "execution_count": 9,
   "id": "2ec0737b",
   "metadata": {},
   "outputs": [],
   "source": [
    "housing_prices = housing.price"
   ]
  },
  {
   "cell_type": "code",
   "execution_count": 10,
   "id": "40bfd9b6",
   "metadata": {},
   "outputs": [],
   "source": [
    "housing_attributes = housing.drop(\"price\", axis = 1)"
   ]
  },
  {
   "cell_type": "code",
   "execution_count": 11,
   "id": "b4aaff65",
   "metadata": {},
   "outputs": [
    {
     "data": {
      "text/plain": [
       "((506, 13), (506,))"
      ]
     },
     "execution_count": 11,
     "metadata": {},
     "output_type": "execute_result"
    }
   ],
   "source": [
    "housing_attributes.shape, housing_prices.shape"
   ]
  },
  {
   "cell_type": "code",
   "execution_count": 12,
   "id": "091fedbc",
   "metadata": {},
   "outputs": [
    {
     "data": {
      "text/plain": [
       "MinMaxScaler()"
      ]
     },
     "execution_count": 12,
     "metadata": {},
     "output_type": "execute_result"
    }
   ],
   "source": [
    "scaler = MinMaxScaler()\n",
    "scaler.fit(housing_attributes)"
   ]
  },
  {
   "cell_type": "code",
   "execution_count": 13,
   "id": "eb543c41",
   "metadata": {},
   "outputs": [
    {
     "data": {
      "text/plain": [
       "array([  9.96654, 100.     ,  27.74   ,   1.     ,   0.871  ,   8.78   ,\n",
       "       100.     ,   9.2229 ,   8.     , 711.     ,  22.     , 396.9    ,\n",
       "        37.97   ])"
      ]
     },
     "execution_count": 13,
     "metadata": {},
     "output_type": "execute_result"
    }
   ],
   "source": [
    "scaler.data_max_"
   ]
  },
  {
   "cell_type": "code",
   "execution_count": 14,
   "id": "23a7b831",
   "metadata": {},
   "outputs": [
    {
     "data": {
      "text/plain": [
       "(0, 1)"
      ]
     },
     "execution_count": 14,
     "metadata": {},
     "output_type": "execute_result"
    }
   ],
   "source": [
    "scaler.feature_range"
   ]
  },
  {
   "cell_type": "code",
   "execution_count": 15,
   "id": "e449f549",
   "metadata": {},
   "outputs": [],
   "source": [
    "housing_attributes_scaled = scaler.transform(housing_attributes)"
   ]
  },
  {
   "cell_type": "code",
   "execution_count": 16,
   "id": "e98b8dde",
   "metadata": {},
   "outputs": [
    {
     "data": {
      "text/plain": [
       "array([0.17167998, 0.11363636, 0.39137752, 0.06916996, 0.34916679,\n",
       "       0.52186901, 0.67636355, 0.36013158, 0.47600226, 0.42220831,\n",
       "       0.62292911, 0.89856783, 0.30140903])"
      ]
     },
     "execution_count": 16,
     "metadata": {},
     "output_type": "execute_result"
    }
   ],
   "source": [
    "housing_attributes_scaled.mean(axis = 0)"
   ]
  },
  {
   "cell_type": "code",
   "execution_count": 17,
   "id": "a533982d",
   "metadata": {},
   "outputs": [
    {
     "data": {
      "text/plain": [
       "LinearRegression()"
      ]
     },
     "execution_count": 17,
     "metadata": {},
     "output_type": "execute_result"
    }
   ],
   "source": [
    "linear_regression = LinearRegression() # We can add property fit_intercept = False\n",
    "linear_regression.fit(housing_attributes_scaled, housing_prices)"
   ]
  },
  {
   "cell_type": "code",
   "execution_count": 18,
   "id": "0db242b6",
   "metadata": {},
   "outputs": [
    {
     "data": {
      "text/plain": [
       "array([  2.08448854,   1.49403979,   0.34690497,   3.00565375,\n",
       "        -7.54441381,  22.43940145,   0.27658754,  -9.35981793,\n",
       "         1.35281035,  -1.26826011,  -9.07603108,   3.74177288,\n",
       "       -19.03479847])"
      ]
     },
     "execution_count": 18,
     "metadata": {},
     "output_type": "execute_result"
    }
   ],
   "source": [
    "linear_regression.coef_"
   ]
  },
  {
   "cell_type": "code",
   "execution_count": 19,
   "id": "c14476fa",
   "metadata": {},
   "outputs": [
    {
     "data": {
      "text/plain": [
       "23.68929153467697"
      ]
     },
     "execution_count": 19,
     "metadata": {},
     "output_type": "execute_result"
    }
   ],
   "source": [
    "linear_regression.intercept_"
   ]
  },
  {
   "cell_type": "code",
   "execution_count": 20,
   "id": "daf35d82",
   "metadata": {},
   "outputs": [
    {
     "data": {
      "text/plain": [
       "array([[0.        ],\n",
       "       [0.18      ],\n",
       "       [0.06781525],\n",
       "       [0.        ],\n",
       "       [0.31481481],\n",
       "       [0.57750527],\n",
       "       [0.64160659],\n",
       "       [0.40572176],\n",
       "       [0.        ],\n",
       "       [0.20801527],\n",
       "       [0.28723404],\n",
       "       [1.        ],\n",
       "       [0.08967991]])"
      ]
     },
     "execution_count": 20,
     "metadata": {},
     "output_type": "execute_result"
    }
   ],
   "source": [
    "housing_attributes_scaled[0].reshape(-1, 1)"
   ]
  },
  {
   "cell_type": "code",
   "execution_count": 21,
   "id": "1885e301",
   "metadata": {},
   "outputs": [
    {
     "data": {
      "text/plain": [
       "array([30.10947333, 25.12810976, 31.00785588, 29.04535626, 28.48368175,\n",
       "       25.44231142, 23.23025545, 20.07399474, 11.87137324, 19.61327434])"
      ]
     },
     "execution_count": 21,
     "metadata": {},
     "output_type": "execute_result"
    }
   ],
   "source": [
    "linear_regression.predict(housing_attributes_scaled[:10])"
   ]
  },
  {
   "cell_type": "code",
   "execution_count": 22,
   "id": "b0b2bd8c",
   "metadata": {},
   "outputs": [
    {
     "data": {
      "text/plain": [
       "array([24. , 21.6, 34.7, 33.4, 36.2, 28.7, 22.9, 27.1, 16.5, 18.9])"
      ]
     },
     "execution_count": 22,
     "metadata": {},
     "output_type": "execute_result"
    }
   ],
   "source": [
    "housing_prices[:10].values"
   ]
  },
  {
   "cell_type": "code",
   "execution_count": 23,
   "id": "88d0b07e",
   "metadata": {},
   "outputs": [],
   "source": [
    "random_sample = pd.DataFrame(housing_attributes_scaled).sample(10)"
   ]
  },
  {
   "cell_type": "code",
   "execution_count": 24,
   "id": "81b9ab29",
   "metadata": {},
   "outputs": [
    {
     "data": {
      "text/html": [
       "<div>\n",
       "<style scoped>\n",
       "    .dataframe tbody tr th:only-of-type {\n",
       "        vertical-align: middle;\n",
       "    }\n",
       "\n",
       "    .dataframe tbody tr th {\n",
       "        vertical-align: top;\n",
       "    }\n",
       "\n",
       "    .dataframe thead th {\n",
       "        text-align: right;\n",
       "    }\n",
       "</style>\n",
       "<table border=\"1\" class=\"dataframe\">\n",
       "  <thead>\n",
       "    <tr style=\"text-align: right;\">\n",
       "      <th></th>\n",
       "      <th>0</th>\n",
       "      <th>1</th>\n",
       "      <th>2</th>\n",
       "      <th>3</th>\n",
       "      <th>4</th>\n",
       "      <th>5</th>\n",
       "      <th>6</th>\n",
       "      <th>7</th>\n",
       "      <th>8</th>\n",
       "      <th>9</th>\n",
       "      <th>10</th>\n",
       "      <th>11</th>\n",
       "      <th>12</th>\n",
       "    </tr>\n",
       "  </thead>\n",
       "  <tbody>\n",
       "    <tr>\n",
       "      <th>399</th>\n",
       "      <td>0.994981</td>\n",
       "      <td>0.0</td>\n",
       "      <td>0.646628</td>\n",
       "      <td>0.0</td>\n",
       "      <td>0.633745</td>\n",
       "      <td>0.438973</td>\n",
       "      <td>0.771370</td>\n",
       "      <td>0.105902</td>\n",
       "      <td>0.428571</td>\n",
       "      <td>0.914122</td>\n",
       "      <td>0.808511</td>\n",
       "      <td>0.851884</td>\n",
       "      <td>0.779249</td>\n",
       "    </tr>\n",
       "    <tr>\n",
       "      <th>463</th>\n",
       "      <td>0.583805</td>\n",
       "      <td>0.0</td>\n",
       "      <td>0.646628</td>\n",
       "      <td>0.0</td>\n",
       "      <td>0.674897</td>\n",
       "      <td>0.565626</td>\n",
       "      <td>0.895984</td>\n",
       "      <td>0.256553</td>\n",
       "      <td>0.428571</td>\n",
       "      <td>0.914122</td>\n",
       "      <td>0.808511</td>\n",
       "      <td>0.992234</td>\n",
       "      <td>0.236203</td>\n",
       "    </tr>\n",
       "    <tr>\n",
       "      <th>363</th>\n",
       "      <td>0.423291</td>\n",
       "      <td>0.0</td>\n",
       "      <td>0.646628</td>\n",
       "      <td>1.0</td>\n",
       "      <td>0.792181</td>\n",
       "      <td>0.429584</td>\n",
       "      <td>0.886715</td>\n",
       "      <td>0.152712</td>\n",
       "      <td>0.428571</td>\n",
       "      <td>0.914122</td>\n",
       "      <td>0.808511</td>\n",
       "      <td>0.889404</td>\n",
       "      <td>0.356236</td>\n",
       "    </tr>\n",
       "    <tr>\n",
       "      <th>112</th>\n",
       "      <td>0.011744</td>\n",
       "      <td>0.0</td>\n",
       "      <td>0.350073</td>\n",
       "      <td>0.0</td>\n",
       "      <td>0.333333</td>\n",
       "      <td>0.450661</td>\n",
       "      <td>0.926880</td>\n",
       "      <td>0.204661</td>\n",
       "      <td>0.714286</td>\n",
       "      <td>0.467557</td>\n",
       "      <td>0.553191</td>\n",
       "      <td>0.995083</td>\n",
       "      <td>0.399558</td>\n",
       "    </tr>\n",
       "    <tr>\n",
       "      <th>291</th>\n",
       "      <td>0.007283</td>\n",
       "      <td>0.8</td>\n",
       "      <td>0.164589</td>\n",
       "      <td>0.0</td>\n",
       "      <td>0.053498</td>\n",
       "      <td>0.687296</td>\n",
       "      <td>0.255407</td>\n",
       "      <td>0.524591</td>\n",
       "      <td>0.428571</td>\n",
       "      <td>0.110687</td>\n",
       "      <td>0.702128</td>\n",
       "      <td>1.000000</td>\n",
       "      <td>0.050497</td>\n",
       "    </tr>\n",
       "    <tr>\n",
       "      <th>195</th>\n",
       "      <td>0.000752</td>\n",
       "      <td>0.8</td>\n",
       "      <td>0.000000</td>\n",
       "      <td>0.0</td>\n",
       "      <td>0.076132</td>\n",
       "      <td>0.826595</td>\n",
       "      <td>0.299691</td>\n",
       "      <td>0.586151</td>\n",
       "      <td>0.428571</td>\n",
       "      <td>0.129771</td>\n",
       "      <td>0.191489</td>\n",
       "      <td>0.993267</td>\n",
       "      <td>0.034216</td>\n",
       "    </tr>\n",
       "    <tr>\n",
       "      <th>480</th>\n",
       "      <td>0.584093</td>\n",
       "      <td>0.0</td>\n",
       "      <td>0.646628</td>\n",
       "      <td>0.0</td>\n",
       "      <td>0.302469</td>\n",
       "      <td>0.513700</td>\n",
       "      <td>0.636457</td>\n",
       "      <td>0.328637</td>\n",
       "      <td>0.428571</td>\n",
       "      <td>0.914122</td>\n",
       "      <td>0.808511</td>\n",
       "      <td>1.000000</td>\n",
       "      <td>0.248620</td>\n",
       "    </tr>\n",
       "    <tr>\n",
       "      <th>395</th>\n",
       "      <td>0.874522</td>\n",
       "      <td>0.0</td>\n",
       "      <td>0.646628</td>\n",
       "      <td>0.0</td>\n",
       "      <td>0.633745</td>\n",
       "      <td>0.557578</td>\n",
       "      <td>0.987642</td>\n",
       "      <td>0.131987</td>\n",
       "      <td>0.428571</td>\n",
       "      <td>0.914122</td>\n",
       "      <td>0.808511</td>\n",
       "      <td>0.987594</td>\n",
       "      <td>0.424669</td>\n",
       "    </tr>\n",
       "    <tr>\n",
       "      <th>380</th>\n",
       "      <td>0.900570</td>\n",
       "      <td>0.0</td>\n",
       "      <td>0.646628</td>\n",
       "      <td>0.0</td>\n",
       "      <td>0.588477</td>\n",
       "      <td>0.652807</td>\n",
       "      <td>0.916581</td>\n",
       "      <td>0.096189</td>\n",
       "      <td>0.428571</td>\n",
       "      <td>0.914122</td>\n",
       "      <td>0.808511</td>\n",
       "      <td>1.000000</td>\n",
       "      <td>0.427152</td>\n",
       "    </tr>\n",
       "    <tr>\n",
       "      <th>145</th>\n",
       "      <td>0.238250</td>\n",
       "      <td>0.0</td>\n",
       "      <td>0.700880</td>\n",
       "      <td>0.0</td>\n",
       "      <td>1.000000</td>\n",
       "      <td>0.492240</td>\n",
       "      <td>1.000000</td>\n",
       "      <td>0.096490</td>\n",
       "      <td>0.571429</td>\n",
       "      <td>0.412214</td>\n",
       "      <td>0.223404</td>\n",
       "      <td>0.435196</td>\n",
       "      <td>0.719371</td>\n",
       "    </tr>\n",
       "  </tbody>\n",
       "</table>\n",
       "</div>"
      ],
      "text/plain": [
       "           0    1         2    3         4         5         6         7   \\\n",
       "399  0.994981  0.0  0.646628  0.0  0.633745  0.438973  0.771370  0.105902   \n",
       "463  0.583805  0.0  0.646628  0.0  0.674897  0.565626  0.895984  0.256553   \n",
       "363  0.423291  0.0  0.646628  1.0  0.792181  0.429584  0.886715  0.152712   \n",
       "112  0.011744  0.0  0.350073  0.0  0.333333  0.450661  0.926880  0.204661   \n",
       "291  0.007283  0.8  0.164589  0.0  0.053498  0.687296  0.255407  0.524591   \n",
       "195  0.000752  0.8  0.000000  0.0  0.076132  0.826595  0.299691  0.586151   \n",
       "480  0.584093  0.0  0.646628  0.0  0.302469  0.513700  0.636457  0.328637   \n",
       "395  0.874522  0.0  0.646628  0.0  0.633745  0.557578  0.987642  0.131987   \n",
       "380  0.900570  0.0  0.646628  0.0  0.588477  0.652807  0.916581  0.096189   \n",
       "145  0.238250  0.0  0.700880  0.0  1.000000  0.492240  1.000000  0.096490   \n",
       "\n",
       "           8         9         10        11        12  \n",
       "399  0.428571  0.914122  0.808511  0.851884  0.779249  \n",
       "463  0.428571  0.914122  0.808511  0.992234  0.236203  \n",
       "363  0.428571  0.914122  0.808511  0.889404  0.356236  \n",
       "112  0.714286  0.467557  0.553191  0.995083  0.399558  \n",
       "291  0.428571  0.110687  0.702128  1.000000  0.050497  \n",
       "195  0.428571  0.129771  0.191489  0.993267  0.034216  \n",
       "480  0.428571  0.914122  0.808511  1.000000  0.248620  \n",
       "395  0.428571  0.914122  0.808511  0.987594  0.424669  \n",
       "380  0.428571  0.914122  0.808511  1.000000  0.427152  \n",
       "145  0.571429  0.412214  0.223404  0.435196  0.719371  "
      ]
     },
     "execution_count": 24,
     "metadata": {},
     "output_type": "execute_result"
    }
   ],
   "source": [
    "random_sample"
   ]
  },
  {
   "cell_type": "code",
   "execution_count": 25,
   "id": "d84eca69",
   "metadata": {},
   "outputs": [
    {
     "data": {
      "text/plain": [
       "array([10.71588058, 21.87666833, 18.91000997, 21.244129  , 31.98371645,\n",
       "       39.19915904, 22.56806732, 20.19904787, 23.04630678, 13.4616175 ])"
      ]
     },
     "execution_count": 25,
     "metadata": {},
     "output_type": "execute_result"
    }
   ],
   "source": [
    "linear_regression.predict(random_sample)"
   ]
  },
  {
   "cell_type": "code",
   "execution_count": 26,
   "id": "a40c430f",
   "metadata": {},
   "outputs": [
    {
     "data": {
      "text/plain": [
       "array([ 6.3, 20.2, 16.8, 18.8, 37.3, 50. , 23. , 13.1, 10.4, 13.8])"
      ]
     },
     "execution_count": 26,
     "metadata": {},
     "output_type": "execute_result"
    }
   ],
   "source": [
    "housing_prices.loc[random_sample.index].values"
   ]
  },
  {
   "cell_type": "code",
   "execution_count": 27,
   "id": "c5ced0e1",
   "metadata": {},
   "outputs": [
    {
     "data": {
      "text/plain": [
       "0.7198065414937174"
      ]
     },
     "execution_count": 27,
     "metadata": {},
     "output_type": "execute_result"
    }
   ],
   "source": [
    "linear_regression.score(housing_attributes_scaled, housing_prices)"
   ]
  },
  {
   "cell_type": "code",
   "execution_count": 28,
   "id": "4673cee1",
   "metadata": {},
   "outputs": [],
   "source": [
    "ransac = RANSACRegressor() # Accepts other ML model - a way to better a model"
   ]
  },
  {
   "cell_type": "code",
   "execution_count": 29,
   "id": "0813b03a",
   "metadata": {},
   "outputs": [
    {
     "data": {
      "text/plain": [
       "RANSACRegressor()"
      ]
     },
     "execution_count": 29,
     "metadata": {},
     "output_type": "execute_result"
    }
   ],
   "source": [
    "ransac.fit(housing_attributes_scaled, housing_prices)"
   ]
  },
  {
   "cell_type": "code",
   "execution_count": 30,
   "id": "0c2d1ed0",
   "metadata": {},
   "outputs": [
    {
     "data": {
      "text/plain": [
       "array([ -1.62917998,   4.24932113,   1.29849667,   0.80364321,\n",
       "         6.52326609,  31.64257103,  -5.88649992,  -3.26122107,\n",
       "         4.83171364,  -3.28081408,  -3.40762012,   4.91579172,\n",
       "       -10.53214943])"
      ]
     },
     "execution_count": 30,
     "metadata": {},
     "output_type": "execute_result"
    }
   ],
   "source": [
    "ransac.estimator_.coef_"
   ]
  },
  {
   "cell_type": "code",
   "execution_count": 31,
   "id": "cd67d3d7",
   "metadata": {},
   "outputs": [
    {
     "data": {
      "text/plain": [
       "7.215937416492341"
      ]
     },
     "execution_count": 31,
     "metadata": {},
     "output_type": "execute_result"
    }
   ],
   "source": [
    "ransac.estimator_.intercept_"
   ]
  },
  {
   "cell_type": "code",
   "execution_count": 32,
   "id": "74c5035c",
   "metadata": {},
   "outputs": [
    {
     "data": {
      "text/plain": [
       "array([11.8699425 , 22.00041564, 18.14945842, 18.67794827, 33.39875419,\n",
       "       39.10547488, 19.12745869, 18.8626288 , 22.10806462, 18.8458206 ])"
      ]
     },
     "execution_count": 32,
     "metadata": {},
     "output_type": "execute_result"
    }
   ],
   "source": [
    "ransac.predict(random_sample)"
   ]
  },
  {
   "cell_type": "code",
   "execution_count": 33,
   "id": "c128fa0a",
   "metadata": {},
   "outputs": [
    {
     "data": {
      "text/plain": [
       "array([ 6.3, 20.2, 16.8, 18.8, 37.3, 50. , 23. , 13.1, 10.4, 13.8])"
      ]
     },
     "execution_count": 33,
     "metadata": {},
     "output_type": "execute_result"
    }
   ],
   "source": [
    "housing_prices.loc[random_sample.index].values"
   ]
  },
  {
   "cell_type": "code",
   "execution_count": 34,
   "id": "97e7847c",
   "metadata": {},
   "outputs": [
    {
     "data": {
      "text/plain": [
       "0.6459719476890974"
      ]
     },
     "execution_count": 34,
     "metadata": {},
     "output_type": "execute_result"
    }
   ],
   "source": [
    "ransac.score(housing_attributes_scaled, housing_prices)"
   ]
  },
  {
   "cell_type": "code",
   "execution_count": 35,
   "id": "1a6b8bdb",
   "metadata": {},
   "outputs": [
    {
     "data": {
      "text/plain": [
       "array([ True,  True, False, False, False, False,  True, False, False,\n",
       "        True, False,  True,  True,  True,  True,  True,  True,  True,\n",
       "        True,  True,  True,  True,  True,  True,  True,  True,  True,\n",
       "        True,  True,  True,  True,  True,  True,  True,  True,  True,\n",
       "        True,  True,  True,  True,  True,  True,  True,  True,  True,\n",
       "        True,  True,  True, False, False,  True,  True,  True,  True,\n",
       "        True,  True,  True,  True, False, False,  True, False, False,\n",
       "       False, False, False,  True,  True,  True,  True,  True,  True,\n",
       "        True,  True,  True,  True,  True,  True,  True,  True,  True,\n",
       "        True,  True,  True,  True,  True, False,  True,  True,  True,\n",
       "        True,  True,  True,  True,  True, False, False, False, False,\n",
       "       False,  True,  True,  True,  True,  True,  True,  True,  True,\n",
       "        True,  True,  True,  True,  True,  True, False,  True,  True,\n",
       "        True,  True,  True,  True,  True, False, False,  True,  True,\n",
       "       False,  True,  True,  True,  True,  True,  True,  True,  True,\n",
       "        True,  True, False,  True,  True,  True, False, False, False,\n",
       "       False, False, False,  True,  True, False, False, False, False,\n",
       "       False, False, False, False, False,  True, False,  True, False,\n",
       "       False, False,  True, False, False, False,  True,  True,  True,\n",
       "        True, False,  True,  True,  True,  True,  True,  True, False,\n",
       "       False, False, False, False, False, False, False,  True,  True,\n",
       "        True, False,  True,  True,  True,  True, False,  True,  True,\n",
       "       False,  True,  True,  True, False, False, False,  True,  True,\n",
       "       False, False, False, False, False, False,  True, False,  True,\n",
       "        True,  True,  True,  True,  True,  True,  True,  True, False,\n",
       "       False,  True,  True, False,  True,  True,  True,  True, False,\n",
       "        True,  True,  True,  True, False, False, False,  True,  True,\n",
       "       False,  True,  True,  True,  True,  True, False, False, False,\n",
       "        True,  True,  True,  True, False, False,  True,  True,  True,\n",
       "       False, False,  True,  True,  True,  True, False, False,  True,\n",
       "        True,  True,  True,  True,  True,  True,  True,  True,  True,\n",
       "       False, False, False, False, False,  True,  True,  True,  True,\n",
       "       False,  True,  True,  True,  True,  True,  True,  True,  True,\n",
       "       False, False, False, False, False,  True,  True,  True,  True,\n",
       "        True,  True,  True,  True,  True,  True,  True,  True,  True,\n",
       "        True,  True,  True,  True,  True,  True,  True,  True,  True,\n",
       "        True,  True,  True,  True,  True,  True,  True,  True,  True,\n",
       "       False, False,  True,  True,  True, False, False,  True, False,\n",
       "        True, False,  True,  True,  True, False, False,  True,  True,\n",
       "        True, False,  True, False, False,  True,  True,  True,  True,\n",
       "        True,  True,  True,  True, False, False, False, False, False,\n",
       "       False, False, False, False, False, False, False, False, False,\n",
       "       False, False, False, False,  True,  True, False,  True, False,\n",
       "        True, False,  True,  True, False,  True, False, False, False,\n",
       "       False, False,  True, False, False, False, False, False,  True,\n",
       "       False, False, False, False, False,  True,  True, False, False,\n",
       "       False, False, False,  True,  True, False, False,  True, False,\n",
       "        True, False,  True,  True, False,  True,  True,  True,  True,\n",
       "        True,  True, False, False, False,  True,  True,  True, False,\n",
       "        True,  True, False, False, False, False, False,  True, False,\n",
       "       False, False,  True, False,  True,  True,  True,  True,  True,\n",
       "        True, False, False,  True,  True,  True,  True, False, False,\n",
       "       False, False,  True,  True, False, False, False,  True,  True,\n",
       "       False,  True,  True, False,  True,  True, False,  True,  True,\n",
       "        True,  True,  True,  True,  True,  True,  True,  True,  True,\n",
       "        True,  True,  True,  True,  True, False,  True,  True,  True,\n",
       "        True, False])"
      ]
     },
     "execution_count": 35,
     "metadata": {},
     "output_type": "execute_result"
    }
   ],
   "source": [
    "ransac.inlier_mask_"
   ]
  },
  {
   "cell_type": "code",
   "execution_count": 36,
   "id": "ec245a12",
   "metadata": {},
   "outputs": [],
   "source": [
    "inliers = housing_attributes_scaled[ransac.inlier_mask_]\n",
    "outliers = housing_attributes_scaled[~ransac.inlier_mask_]"
   ]
  },
  {
   "cell_type": "code",
   "execution_count": 37,
   "id": "3283655f",
   "metadata": {},
   "outputs": [
    {
     "data": {
      "text/plain": [
       "0.9248121462487743"
      ]
     },
     "execution_count": 37,
     "metadata": {},
     "output_type": "execute_result"
    }
   ],
   "source": [
    "ransac.score(inliers, housing_prices.loc[ransac.inlier_mask_])"
   ]
  },
  {
   "cell_type": "code",
   "execution_count": 38,
   "id": "044efbaf",
   "metadata": {},
   "outputs": [
    {
     "data": {
      "text/plain": [
       "0.5131273827136289"
      ]
     },
     "execution_count": 38,
     "metadata": {},
     "output_type": "execute_result"
    }
   ],
   "source": [
    "ransac.score(outliers, housing_prices.loc[~ransac.inlier_mask_])"
   ]
  },
  {
   "cell_type": "code",
   "execution_count": 39,
   "id": "a42c1d91",
   "metadata": {},
   "outputs": [],
   "source": [
    "polynomial_features = PolynomialFeatures()"
   ]
  },
  {
   "cell_type": "code",
   "execution_count": 40,
   "id": "4bd5c6d0",
   "metadata": {},
   "outputs": [],
   "source": [
    "housing_attributes_scaled_poly = polynomial_features.fit_transform(housing_attributes_scaled)"
   ]
  },
  {
   "cell_type": "code",
   "execution_count": 41,
   "id": "d7f1a1e4",
   "metadata": {},
   "outputs": [
    {
     "data": {
      "text/plain": [
       "(506, 105)"
      ]
     },
     "execution_count": 41,
     "metadata": {},
     "output_type": "execute_result"
    }
   ],
   "source": [
    "housing_attributes_scaled_poly.shape"
   ]
  },
  {
   "cell_type": "code",
   "execution_count": 42,
   "id": "197bae48",
   "metadata": {},
   "outputs": [
    {
     "data": {
      "text/plain": [
       "LinearRegression()"
      ]
     },
     "execution_count": 42,
     "metadata": {},
     "output_type": "execute_result"
    }
   ],
   "source": [
    "quadratic_regression = LinearRegression()\n",
    "quadratic_regression.fit(housing_attributes_scaled_poly, housing_prices)"
   ]
  },
  {
   "cell_type": "code",
   "execution_count": 43,
   "id": "facecc78",
   "metadata": {},
   "outputs": [
    {
     "data": {
      "text/plain": [
       "0.8527008230672175"
      ]
     },
     "execution_count": 43,
     "metadata": {},
     "output_type": "execute_result"
    }
   ],
   "source": [
    "quadratic_regression.score(housing_attributes_scaled_poly, housing_prices)"
   ]
  },
  {
   "cell_type": "code",
   "execution_count": 44,
   "id": "d654e062",
   "metadata": {},
   "outputs": [],
   "source": [
    "iris = pd.read_csv(\"https://archive.ics.uci.edu/ml/machine-learning-databases/iris/iris.data\", header = None)\n",
    "iris.columns = [\"sepal_length\", \"sepal_width\", \"petal_length\", \"petal_width\", \"class\"]"
   ]
  },
  {
   "cell_type": "code",
   "execution_count": 45,
   "id": "63d553da",
   "metadata": {},
   "outputs": [
    {
     "data": {
      "text/html": [
       "<div>\n",
       "<style scoped>\n",
       "    .dataframe tbody tr th:only-of-type {\n",
       "        vertical-align: middle;\n",
       "    }\n",
       "\n",
       "    .dataframe tbody tr th {\n",
       "        vertical-align: top;\n",
       "    }\n",
       "\n",
       "    .dataframe thead th {\n",
       "        text-align: right;\n",
       "    }\n",
       "</style>\n",
       "<table border=\"1\" class=\"dataframe\">\n",
       "  <thead>\n",
       "    <tr style=\"text-align: right;\">\n",
       "      <th></th>\n",
       "      <th>sepal_length</th>\n",
       "      <th>sepal_width</th>\n",
       "      <th>petal_length</th>\n",
       "      <th>petal_width</th>\n",
       "      <th>class</th>\n",
       "    </tr>\n",
       "  </thead>\n",
       "  <tbody>\n",
       "    <tr>\n",
       "      <th>0</th>\n",
       "      <td>5.1</td>\n",
       "      <td>3.5</td>\n",
       "      <td>1.4</td>\n",
       "      <td>0.2</td>\n",
       "      <td>Iris-setosa</td>\n",
       "    </tr>\n",
       "    <tr>\n",
       "      <th>1</th>\n",
       "      <td>4.9</td>\n",
       "      <td>3.0</td>\n",
       "      <td>1.4</td>\n",
       "      <td>0.2</td>\n",
       "      <td>Iris-setosa</td>\n",
       "    </tr>\n",
       "    <tr>\n",
       "      <th>2</th>\n",
       "      <td>4.7</td>\n",
       "      <td>3.2</td>\n",
       "      <td>1.3</td>\n",
       "      <td>0.2</td>\n",
       "      <td>Iris-setosa</td>\n",
       "    </tr>\n",
       "    <tr>\n",
       "      <th>3</th>\n",
       "      <td>4.6</td>\n",
       "      <td>3.1</td>\n",
       "      <td>1.5</td>\n",
       "      <td>0.2</td>\n",
       "      <td>Iris-setosa</td>\n",
       "    </tr>\n",
       "    <tr>\n",
       "      <th>4</th>\n",
       "      <td>5.0</td>\n",
       "      <td>3.6</td>\n",
       "      <td>1.4</td>\n",
       "      <td>0.2</td>\n",
       "      <td>Iris-setosa</td>\n",
       "    </tr>\n",
       "    <tr>\n",
       "      <th>...</th>\n",
       "      <td>...</td>\n",
       "      <td>...</td>\n",
       "      <td>...</td>\n",
       "      <td>...</td>\n",
       "      <td>...</td>\n",
       "    </tr>\n",
       "    <tr>\n",
       "      <th>145</th>\n",
       "      <td>6.7</td>\n",
       "      <td>3.0</td>\n",
       "      <td>5.2</td>\n",
       "      <td>2.3</td>\n",
       "      <td>Iris-virginica</td>\n",
       "    </tr>\n",
       "    <tr>\n",
       "      <th>146</th>\n",
       "      <td>6.3</td>\n",
       "      <td>2.5</td>\n",
       "      <td>5.0</td>\n",
       "      <td>1.9</td>\n",
       "      <td>Iris-virginica</td>\n",
       "    </tr>\n",
       "    <tr>\n",
       "      <th>147</th>\n",
       "      <td>6.5</td>\n",
       "      <td>3.0</td>\n",
       "      <td>5.2</td>\n",
       "      <td>2.0</td>\n",
       "      <td>Iris-virginica</td>\n",
       "    </tr>\n",
       "    <tr>\n",
       "      <th>148</th>\n",
       "      <td>6.2</td>\n",
       "      <td>3.4</td>\n",
       "      <td>5.4</td>\n",
       "      <td>2.3</td>\n",
       "      <td>Iris-virginica</td>\n",
       "    </tr>\n",
       "    <tr>\n",
       "      <th>149</th>\n",
       "      <td>5.9</td>\n",
       "      <td>3.0</td>\n",
       "      <td>5.1</td>\n",
       "      <td>1.8</td>\n",
       "      <td>Iris-virginica</td>\n",
       "    </tr>\n",
       "  </tbody>\n",
       "</table>\n",
       "<p>150 rows × 5 columns</p>\n",
       "</div>"
      ],
      "text/plain": [
       "     sepal_length  sepal_width  petal_length  petal_width           class\n",
       "0             5.1          3.5           1.4          0.2     Iris-setosa\n",
       "1             4.9          3.0           1.4          0.2     Iris-setosa\n",
       "2             4.7          3.2           1.3          0.2     Iris-setosa\n",
       "3             4.6          3.1           1.5          0.2     Iris-setosa\n",
       "4             5.0          3.6           1.4          0.2     Iris-setosa\n",
       "..            ...          ...           ...          ...             ...\n",
       "145           6.7          3.0           5.2          2.3  Iris-virginica\n",
       "146           6.3          2.5           5.0          1.9  Iris-virginica\n",
       "147           6.5          3.0           5.2          2.0  Iris-virginica\n",
       "148           6.2          3.4           5.4          2.3  Iris-virginica\n",
       "149           5.9          3.0           5.1          1.8  Iris-virginica\n",
       "\n",
       "[150 rows x 5 columns]"
      ]
     },
     "execution_count": 45,
     "metadata": {},
     "output_type": "execute_result"
    }
   ],
   "source": [
    "iris"
   ]
  },
  {
   "cell_type": "code",
   "execution_count": 46,
   "id": "1106fd4e",
   "metadata": {},
   "outputs": [],
   "source": [
    "iris_attributes = iris.drop(\"class\", axis = 1)\n",
    "iris_classes = iris[\"class\"]"
   ]
  },
  {
   "cell_type": "code",
   "execution_count": 47,
   "id": "eca5026d",
   "metadata": {},
   "outputs": [],
   "source": [
    "iris_attributes_scaled = MinMaxScaler().fit_transform(iris_attributes)"
   ]
  },
  {
   "cell_type": "code",
   "execution_count": 48,
   "id": "ea585347",
   "metadata": {},
   "outputs": [],
   "source": [
    "logistic_regression = LogisticRegression(C = 1e9)"
   ]
  },
  {
   "cell_type": "code",
   "execution_count": 49,
   "id": "ce28d5bc",
   "metadata": {},
   "outputs": [
    {
     "data": {
      "text/plain": [
       "LogisticRegression(C=1000000000.0)"
      ]
     },
     "execution_count": 49,
     "metadata": {},
     "output_type": "execute_result"
    }
   ],
   "source": [
    "logistic_regression.fit(iris_attributes_scaled, iris_classes)"
   ]
  },
  {
   "cell_type": "code",
   "execution_count": 50,
   "id": "3a80596b",
   "metadata": {},
   "outputs": [
    {
     "data": {
      "text/plain": [
       "array([[-18.29679129,  29.19813694, -37.89417388, -38.3219437 ],\n",
       "       [ 13.58611302,  -6.58018128,  -8.87560643,  -2.78717031],\n",
       "       [  4.71067827, -22.61795566,  46.76978031,  41.10911401]])"
      ]
     },
     "execution_count": 50,
     "metadata": {},
     "output_type": "execute_result"
    }
   ],
   "source": [
    "logistic_regression.coef_"
   ]
  },
  {
   "cell_type": "code",
   "execution_count": 51,
   "id": "994401c0",
   "metadata": {},
   "outputs": [
    {
     "data": {
      "text/plain": [
       "array([ 25.9014194 ,  14.7266206 , -40.62803999])"
      ]
     },
     "execution_count": 51,
     "metadata": {},
     "output_type": "execute_result"
    }
   ],
   "source": [
    "logistic_regression.intercept_"
   ]
  },
  {
   "cell_type": "code",
   "execution_count": 52,
   "id": "61e96785",
   "metadata": {},
   "outputs": [
    {
     "data": {
      "text/plain": [
       "0.9866666666666667"
      ]
     },
     "execution_count": 52,
     "metadata": {},
     "output_type": "execute_result"
    }
   ],
   "source": [
    "logistic_regression.score(iris_attributes_scaled, iris_classes)"
   ]
  },
  {
   "cell_type": "code",
   "execution_count": 53,
   "id": "1d386056",
   "metadata": {},
   "outputs": [
    {
     "data": {
      "text/plain": [
       "array([[1.00000000e+00, 2.22222222e-01, 6.25000000e-01, ...,\n",
       "        5.77244430e-10, 3.54764806e-10, 2.18032537e-10],\n",
       "       [1.00000000e+00, 1.66666667e-01, 4.16666667e-01, ...,\n",
       "        5.77244430e-10, 3.54764806e-10, 2.18032537e-10],\n",
       "       [1.00000000e+00, 1.11111111e-01, 5.00000000e-01, ...,\n",
       "        3.24699992e-10, 2.66073604e-10, 2.18032537e-10],\n",
       "       ...,\n",
       "       [1.00000000e+00, 6.11111111e-01, 4.16666667e-01, ...,\n",
       "        1.57581908e-01, 1.75247340e-01, 1.94893123e-01],\n",
       "       [1.00000000e+00, 5.27777778e-01, 5.83333333e-01, ...,\n",
       "        3.59963549e-01, 4.42455196e-01, 5.43851178e-01],\n",
       "       [1.00000000e+00, 4.44444444e-01, 4.16666667e-01, ...,\n",
       "        8.61097024e-02, 8.77723898e-02, 8.94671819e-02]])"
      ]
     },
     "execution_count": 53,
     "metadata": {},
     "output_type": "execute_result"
    }
   ],
   "source": [
    "PolynomialFeatures(degree = 7).fit_transform(iris_attributes_scaled)"
   ]
  }
 ],
 "metadata": {
  "kernelspec": {
   "display_name": "Python 3",
   "language": "python",
   "name": "python3"
  },
  "language_info": {
   "codemirror_mode": {
    "name": "ipython",
    "version": 3
   },
   "file_extension": ".py",
   "mimetype": "text/x-python",
   "name": "python",
   "nbconvert_exporter": "python",
   "pygments_lexer": "ipython3",
   "version": "3.8.8"
  }
 },
 "nbformat": 4,
 "nbformat_minor": 5
}
