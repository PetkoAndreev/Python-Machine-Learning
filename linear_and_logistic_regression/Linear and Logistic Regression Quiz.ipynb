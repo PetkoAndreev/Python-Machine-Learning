{
 "cells": [
  {
   "cell_type": "code",
   "execution_count": 1,
   "id": "61992f5b",
   "metadata": {},
   "outputs": [],
   "source": [
    "%matplotlib inline"
   ]
  },
  {
   "cell_type": "code",
   "execution_count": 2,
   "id": "8e4209c9",
   "metadata": {},
   "outputs": [],
   "source": [
    "import numpy as np\n",
    "import pandas as pd\n",
    "import matplotlib.pyplot as plt\n",
    "\n",
    "from sklearn.preprocessing import MinMaxScaler, PolynomialFeatures\n",
    "\n",
    "from sklearn.linear_model import LinearRegression, RANSACRegressor, LogisticRegression"
   ]
  },
  {
   "cell_type": "markdown",
   "id": "f2bd0bd4",
   "metadata": {},
   "source": [
    "<h1>Linear and Logistic Regression Quiz</h1>"
   ]
  },
  {
   "cell_type": "markdown",
   "id": "8423961e",
   "metadata": {},
   "source": [
    "<h3>ML Applications</h3>\n",
    "<p>Classification and regression are examples of?\n",
    "    \n",
    "Answer: Supervised learning</p>"
   ]
  },
  {
   "cell_type": "markdown",
   "id": "2d849735",
   "metadata": {},
   "source": [
    "<h3>Types of Algorithms</h3>\n",
    "<p>In a CPU factory, a camera takes a picture of every single manufactured chip. After that, it sends the picture to an algorithm. The algorithm outputs whether the CPU is defective or not. What type of algorithm is that most likely to be?\n",
    "\n",
    "Answer: Multi-class classification\n",
    "</p>"
   ]
  },
  {
   "cell_type": "markdown",
   "id": "bafdd97d",
   "metadata": {},
   "source": [
    "<h3>Local Minima</h3>\n",
    "<p>When performing gradient descent on a linear regression, the choice of starting point is really important. If we choose a starting point which is far away from the global minimum of the error function, we can get stuck in a local minimum.\n",
    " \n",
    "Answer: True</p>"
   ]
  },
  {
   "cell_type": "markdown",
   "id": "56a9c347",
   "metadata": {},
   "source": [
    "<h3>Reading a Dataset</h3>\n",
    "\n",
    "<h5>Part 1</h5>\n",
    "<p>Read the dataset of RED wine quality, located at http://archive.ics.uci.edu/ml/machine-learning-databases/wine-quality/. How many total observations are there?</p>\n",
    "\n",
    "<h5>Part 2</h5>\n",
    "<p>How many total attributes are there?</p>"
   ]
  },
  {
   "cell_type": "code",
   "execution_count": 3,
   "id": "be27e48c",
   "metadata": {},
   "outputs": [
    {
     "data": {
      "text/html": [
       "<div>\n",
       "<style scoped>\n",
       "    .dataframe tbody tr th:only-of-type {\n",
       "        vertical-align: middle;\n",
       "    }\n",
       "\n",
       "    .dataframe tbody tr th {\n",
       "        vertical-align: top;\n",
       "    }\n",
       "\n",
       "    .dataframe thead th {\n",
       "        text-align: right;\n",
       "    }\n",
       "</style>\n",
       "<table border=\"1\" class=\"dataframe\">\n",
       "  <thead>\n",
       "    <tr style=\"text-align: right;\">\n",
       "      <th></th>\n",
       "      <th>fixed acidity</th>\n",
       "      <th>volatile acidity</th>\n",
       "      <th>citric acid</th>\n",
       "      <th>residual sugar</th>\n",
       "      <th>chlorides</th>\n",
       "      <th>free sulfur dioxide</th>\n",
       "      <th>total sulfur dioxide</th>\n",
       "      <th>density</th>\n",
       "      <th>pH</th>\n",
       "      <th>sulphates</th>\n",
       "      <th>alcohol</th>\n",
       "      <th>quality</th>\n",
       "    </tr>\n",
       "  </thead>\n",
       "  <tbody>\n",
       "    <tr>\n",
       "      <th>0</th>\n",
       "      <td>7.4</td>\n",
       "      <td>0.70</td>\n",
       "      <td>0.00</td>\n",
       "      <td>1.9</td>\n",
       "      <td>0.076</td>\n",
       "      <td>11.0</td>\n",
       "      <td>34.0</td>\n",
       "      <td>0.9978</td>\n",
       "      <td>3.51</td>\n",
       "      <td>0.56</td>\n",
       "      <td>9.4</td>\n",
       "      <td>5</td>\n",
       "    </tr>\n",
       "    <tr>\n",
       "      <th>1</th>\n",
       "      <td>7.8</td>\n",
       "      <td>0.88</td>\n",
       "      <td>0.00</td>\n",
       "      <td>2.6</td>\n",
       "      <td>0.098</td>\n",
       "      <td>25.0</td>\n",
       "      <td>67.0</td>\n",
       "      <td>0.9968</td>\n",
       "      <td>3.20</td>\n",
       "      <td>0.68</td>\n",
       "      <td>9.8</td>\n",
       "      <td>5</td>\n",
       "    </tr>\n",
       "    <tr>\n",
       "      <th>2</th>\n",
       "      <td>7.8</td>\n",
       "      <td>0.76</td>\n",
       "      <td>0.04</td>\n",
       "      <td>2.3</td>\n",
       "      <td>0.092</td>\n",
       "      <td>15.0</td>\n",
       "      <td>54.0</td>\n",
       "      <td>0.9970</td>\n",
       "      <td>3.26</td>\n",
       "      <td>0.65</td>\n",
       "      <td>9.8</td>\n",
       "      <td>5</td>\n",
       "    </tr>\n",
       "    <tr>\n",
       "      <th>3</th>\n",
       "      <td>11.2</td>\n",
       "      <td>0.28</td>\n",
       "      <td>0.56</td>\n",
       "      <td>1.9</td>\n",
       "      <td>0.075</td>\n",
       "      <td>17.0</td>\n",
       "      <td>60.0</td>\n",
       "      <td>0.9980</td>\n",
       "      <td>3.16</td>\n",
       "      <td>0.58</td>\n",
       "      <td>9.8</td>\n",
       "      <td>6</td>\n",
       "    </tr>\n",
       "    <tr>\n",
       "      <th>4</th>\n",
       "      <td>7.4</td>\n",
       "      <td>0.70</td>\n",
       "      <td>0.00</td>\n",
       "      <td>1.9</td>\n",
       "      <td>0.076</td>\n",
       "      <td>11.0</td>\n",
       "      <td>34.0</td>\n",
       "      <td>0.9978</td>\n",
       "      <td>3.51</td>\n",
       "      <td>0.56</td>\n",
       "      <td>9.4</td>\n",
       "      <td>5</td>\n",
       "    </tr>\n",
       "  </tbody>\n",
       "</table>\n",
       "</div>"
      ],
      "text/plain": [
       "   fixed acidity  volatile acidity  citric acid  residual sugar  chlorides  \\\n",
       "0            7.4              0.70         0.00             1.9      0.076   \n",
       "1            7.8              0.88         0.00             2.6      0.098   \n",
       "2            7.8              0.76         0.04             2.3      0.092   \n",
       "3           11.2              0.28         0.56             1.9      0.075   \n",
       "4            7.4              0.70         0.00             1.9      0.076   \n",
       "\n",
       "   free sulfur dioxide  total sulfur dioxide  density    pH  sulphates  \\\n",
       "0                 11.0                  34.0   0.9978  3.51       0.56   \n",
       "1                 25.0                  67.0   0.9968  3.20       0.68   \n",
       "2                 15.0                  54.0   0.9970  3.26       0.65   \n",
       "3                 17.0                  60.0   0.9980  3.16       0.58   \n",
       "4                 11.0                  34.0   0.9978  3.51       0.56   \n",
       "\n",
       "   alcohol  quality  \n",
       "0      9.4        5  \n",
       "1      9.8        5  \n",
       "2      9.8        5  \n",
       "3      9.8        6  \n",
       "4      9.4        5  "
      ]
     },
     "execution_count": 3,
     "metadata": {},
     "output_type": "execute_result"
    }
   ],
   "source": [
    "red_wine_data = pd.read_csv(\"http://archive.ics.uci.edu/ml/machine-learning-databases/wine-quality/winequality-red.csv\", sep = ';')\n",
    "red_wine_data.head()"
   ]
  },
  {
   "cell_type": "code",
   "execution_count": 4,
   "id": "e1b9792c",
   "metadata": {},
   "outputs": [
    {
     "data": {
      "text/plain": [
       "(1599, 12)"
      ]
     },
     "execution_count": 4,
     "metadata": {},
     "output_type": "execute_result"
    }
   ],
   "source": [
    "red_wine_data.shape"
   ]
  },
  {
   "cell_type": "markdown",
   "id": "63a2c3dd",
   "metadata": {},
   "source": [
    "<h3>Linear Regression</h3> \n",
    "<h5>Part 1</h5>\n",
    "<p>We want to perform a linear regression on the wine quality. Perform linear regression (use scikit-learn) on all observations and attributes, with \"wine.quality\" as the target. What is the value of the model's intercept? Round your answer to two decimal places.</p>\n",
    "<h5>Part 2</h5>\n",
    "<p>To get an estimate how good your model is, you can call model.score(X, y). We'll talk about this next time, just call it now. What's the score of the model, using all observations? Round your answer to two decimal places.</p>"
   ]
  },
  {
   "cell_type": "code",
   "execution_count": 5,
   "id": "a1f51bfd",
   "metadata": {},
   "outputs": [
    {
     "data": {
      "text/plain": [
       "LinearRegression()"
      ]
     },
     "execution_count": 5,
     "metadata": {},
     "output_type": "execute_result"
    }
   ],
   "source": [
    "red_wine_features = red_wine_data.drop(\"quality\", axis = 1)\n",
    "red_wine_target = red_wine_data.quality\n",
    "\n",
    "red_wine_model = LinearRegression()\n",
    "red_wine_model.fit(red_wine_features, red_wine_target)"
   ]
  },
  {
   "cell_type": "code",
   "execution_count": 6,
   "id": "e2306cae",
   "metadata": {},
   "outputs": [
    {
     "data": {
      "text/plain": [
       "21.97"
      ]
     },
     "execution_count": 6,
     "metadata": {},
     "output_type": "execute_result"
    }
   ],
   "source": [
    "round(red_wine_model.intercept_, 2)"
   ]
  },
  {
   "cell_type": "code",
   "execution_count": 7,
   "id": "f91f8232",
   "metadata": {},
   "outputs": [
    {
     "data": {
      "text/plain": [
       "0.36"
      ]
     },
     "execution_count": 7,
     "metadata": {},
     "output_type": "execute_result"
    }
   ],
   "source": [
    "round(red_wine_model.score(red_wine_features, red_wine_target), 2)"
   ]
  },
  {
   "cell_type": "markdown",
   "id": "c7d1e33b",
   "metadata": {},
   "source": [
    "<h5>Polynomial Regression</h5> \n",
    "<h3>Part 1</h3>\n",
    "<p>The score is pretty low. Let's see if trying out polynomial features will do a better job. Try a quadratic polynomial (degree = 2). Save the resulting dataset in a variable. How many features does the dataset have now?</p>\n",
    "<h3>Part 2</h3>\n",
    "<p>Train a new linear regression model using the polynomial features dataset. Score the new model using all observations. What's the score now? Round your answer to two decimal places.</p>"
   ]
  },
  {
   "cell_type": "code",
   "execution_count": 8,
   "id": "abd5aaf8",
   "metadata": {},
   "outputs": [
    {
     "data": {
      "text/plain": [
       "(1599, 78)"
      ]
     },
     "execution_count": 8,
     "metadata": {},
     "output_type": "execute_result"
    }
   ],
   "source": [
    "red_wine_quad = PolynomialFeatures(degree = 2)\n",
    "red_wine_quad = red_wine_quad.fit_transform(red_wine_features)\n",
    "red_wine_quad.shape"
   ]
  },
  {
   "cell_type": "code",
   "execution_count": 9,
   "id": "612fb602",
   "metadata": {},
   "outputs": [
    {
     "data": {
      "text/plain": [
       "0.43"
      ]
     },
     "execution_count": 9,
     "metadata": {},
     "output_type": "execute_result"
    }
   ],
   "source": [
    "red_wine_model_quad = LinearRegression()\n",
    "red_wine_model_quad.fit(red_wine_quad, red_wine_target)\n",
    "round(red_wine_model_quad.score(red_wine_quad, red_wine_target), 2)"
   ]
  }
 ],
 "metadata": {
  "kernelspec": {
   "display_name": "Python 3",
   "language": "python",
   "name": "python3"
  },
  "language_info": {
   "codemirror_mode": {
    "name": "ipython",
    "version": 3
   },
   "file_extension": ".py",
   "mimetype": "text/x-python",
   "name": "python",
   "nbconvert_exporter": "python",
   "pygments_lexer": "ipython3",
   "version": "3.8.8"
  }
 },
 "nbformat": 4,
 "nbformat_minor": 5
}
