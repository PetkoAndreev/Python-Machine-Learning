{
 "cells": [
  {
   "cell_type": "code",
   "execution_count": 1,
   "id": "121bdb28",
   "metadata": {},
   "outputs": [],
   "source": [
    "%matplotlib inline"
   ]
  },
  {
   "cell_type": "code",
   "execution_count": 2,
   "id": "2c51eb4b",
   "metadata": {},
   "outputs": [],
   "source": [
    "import numpy as np\n",
    "import pandas as pd\n",
    "import matplotlib.pyplot as plt\n",
    "\n",
    "from sklearn.preprocessing import MinMaxScaler\n",
    "\n",
    "from sklearn.model_selection import train_test_split\n",
    "\n",
    "from sklearn.tree import DecisionTreeRegressor, export_graphviz, ExtraTreeRegressor"
   ]
  },
  {
   "cell_type": "markdown",
   "id": "befca988",
   "metadata": {},
   "source": [
    "<h1>Model Training and Improvement - Regression</h1>"
   ]
  },
  {
   "cell_type": "code",
   "execution_count": 3,
   "id": "d8ad2834",
   "metadata": {},
   "outputs": [],
   "source": [
    "mpg_data = pd.read_fwf(\"data/autompg/auto-mpg.data\", header = None, na_vals = [\"?\"])"
   ]
  },
  {
   "cell_type": "code",
   "execution_count": 4,
   "id": "c94e852d",
   "metadata": {},
   "outputs": [],
   "source": [
    "mpg_data.columns = [\"mpg\", \"cylinders\", \"displacement\", \"horsepower\", \"weight\", \"acceleration\", \"model year\", \"origin\", \"car name\"]"
   ]
  },
  {
   "cell_type": "code",
   "execution_count": 5,
   "id": "8801473f",
   "metadata": {},
   "outputs": [
    {
     "data": {
      "text/plain": [
       "mpg             float64\n",
       "cylinders         int64\n",
       "displacement    float64\n",
       "horsepower       object\n",
       "weight          float64\n",
       "acceleration    float64\n",
       "model year        int64\n",
       "origin            int64\n",
       "car name         object\n",
       "dtype: object"
      ]
     },
     "execution_count": 5,
     "metadata": {},
     "output_type": "execute_result"
    }
   ],
   "source": [
    "mpg_data.dtypes"
   ]
  },
  {
   "cell_type": "code",
   "execution_count": 6,
   "id": "b6496997",
   "metadata": {},
   "outputs": [
    {
     "data": {
      "text/plain": [
       "array(['130.0', '165.0', '150.0', '140.0', '198.0', '220.0', '215.0',\n",
       "       '225.0', '190.0', '170.0', '160.0', '95.00', '97.00', '85.00',\n",
       "       '88.00', '46.00', '87.00', '90.00', '113.0', '200.0', '210.0',\n",
       "       '193.0', '?', '100.0', '105.0', '175.0', '153.0', '180.0', '110.0',\n",
       "       '72.00', '86.00', '70.00', '76.00', '65.00', '69.00', '60.00',\n",
       "       '80.00', '54.00', '208.0', '155.0', '112.0', '92.00', '145.0',\n",
       "       '137.0', '158.0', '167.0', '94.00', '107.0', '230.0', '49.00',\n",
       "       '75.00', '91.00', '122.0', '67.00', '83.00', '78.00', '52.00',\n",
       "       '61.00', '93.00', '148.0', '129.0', '96.00', '71.00', '98.00',\n",
       "       '115.0', '53.00', '81.00', '79.00', '120.0', '152.0', '102.0',\n",
       "       '108.0', '68.00', '58.00', '149.0', '89.00', '63.00', '48.00',\n",
       "       '66.00', '139.0', '103.0', '125.0', '133.0', '138.0', '135.0',\n",
       "       '142.0', '77.00', '62.00', '132.0', '84.00', '64.00', '74.00',\n",
       "       '116.0', '82.00'], dtype=object)"
      ]
     },
     "execution_count": 6,
     "metadata": {},
     "output_type": "execute_result"
    }
   ],
   "source": [
    "mpg_data.horsepower.unique()"
   ]
  },
  {
   "cell_type": "code",
   "execution_count": 7,
   "id": "50dc80f4",
   "metadata": {},
   "outputs": [],
   "source": [
    "mpg_data = mpg_data.drop(mpg_data[mpg_data.horsepower == \"?\"].index)"
   ]
  },
  {
   "cell_type": "code",
   "execution_count": 8,
   "id": "14809297",
   "metadata": {},
   "outputs": [],
   "source": [
    "mpg_data.horsepower = mpg_data.horsepower.astype(float)"
   ]
  },
  {
   "cell_type": "code",
   "execution_count": 9,
   "id": "9ad73ae5",
   "metadata": {},
   "outputs": [
    {
     "data": {
      "text/plain": [
       "mpg             float64\n",
       "cylinders         int64\n",
       "displacement    float64\n",
       "horsepower      float64\n",
       "weight          float64\n",
       "acceleration    float64\n",
       "model year        int64\n",
       "origin            int64\n",
       "car name         object\n",
       "dtype: object"
      ]
     },
     "execution_count": 9,
     "metadata": {},
     "output_type": "execute_result"
    }
   ],
   "source": [
    "mpg_data.dtypes"
   ]
  },
  {
   "cell_type": "code",
   "execution_count": 10,
   "id": "c7149280",
   "metadata": {},
   "outputs": [
    {
     "data": {
      "text/plain": [
       "(392, 9)"
      ]
     },
     "execution_count": 10,
     "metadata": {},
     "output_type": "execute_result"
    }
   ],
   "source": [
    "mpg_data.shape"
   ]
  },
  {
   "cell_type": "code",
   "execution_count": 11,
   "id": "0487f0b9",
   "metadata": {},
   "outputs": [],
   "source": [
    "mpg_data = mpg_data.drop(\"car name\", axis = 1)"
   ]
  },
  {
   "cell_type": "code",
   "execution_count": 12,
   "id": "64679018",
   "metadata": {},
   "outputs": [],
   "source": [
    "mpg_data_attributes = mpg_data.drop(\"mpg\", axis = 1)\n",
    "mpg_data_target = mpg_data[\"mpg\"]"
   ]
  },
  {
   "cell_type": "code",
   "execution_count": 13,
   "id": "5ccadb51",
   "metadata": {},
   "outputs": [],
   "source": [
    "mpg_data_attributes_scaled = MinMaxScaler().fit_transform(mpg_data_attributes)"
   ]
  },
  {
   "cell_type": "code",
   "execution_count": 14,
   "id": "d9ace26c",
   "metadata": {},
   "outputs": [
    {
     "data": {
      "text/plain": [
       "(array([0., 0., 0., 0., 0., 0., 0.]), array([1., 1., 1., 1., 1., 1., 1.]))"
      ]
     },
     "execution_count": 14,
     "metadata": {},
     "output_type": "execute_result"
    }
   ],
   "source": [
    "mpg_data_attributes_scaled.min(axis = 0), mpg_data_attributes_scaled.max(axis = 0)"
   ]
  },
  {
   "cell_type": "code",
   "execution_count": 15,
   "id": "7b9059d9",
   "metadata": {},
   "outputs": [],
   "source": [
    "attributes_train, attributes_test, targets_train, targets_test = train_test_split(\n",
    "    mpg_data_attributes_scaled,\n",
    "    mpg_data_target,\n",
    "    test_size = 0.2,\n",
    "    random_state = 42\n",
    ")"
   ]
  },
  {
   "cell_type": "code",
   "execution_count": 16,
   "id": "4b3437d1",
   "metadata": {},
   "outputs": [],
   "source": [
    "tree = DecisionTreeRegressor()"
   ]
  },
  {
   "cell_type": "code",
   "execution_count": 17,
   "id": "b02e835e",
   "metadata": {},
   "outputs": [
    {
     "data": {
      "text/plain": [
       "DecisionTreeRegressor()"
      ]
     },
     "execution_count": 17,
     "metadata": {},
     "output_type": "execute_result"
    }
   ],
   "source": [
    "tree.fit(attributes_train, targets_train)"
   ]
  },
  {
   "cell_type": "code",
   "execution_count": 18,
   "id": "1170c434",
   "metadata": {},
   "outputs": [
    {
     "data": {
      "text/plain": [
       "1.0"
      ]
     },
     "execution_count": 18,
     "metadata": {},
     "output_type": "execute_result"
    }
   ],
   "source": [
    "tree.score(attributes_train, targets_train)"
   ]
  },
  {
   "cell_type": "code",
   "execution_count": 19,
   "id": "c4bfd36f",
   "metadata": {},
   "outputs": [
    {
     "data": {
      "text/plain": [
       "0.7901148939167892"
      ]
     },
     "execution_count": 19,
     "metadata": {},
     "output_type": "execute_result"
    }
   ],
   "source": [
    "tree.score(attributes_test, targets_test)"
   ]
  },
  {
   "cell_type": "code",
   "execution_count": 20,
   "id": "0ca2259c",
   "metadata": {},
   "outputs": [
    {
     "data": {
      "text/plain": [
       "'digraph Tree {\\nnode [shape=box] ;\\n0 [label=\"X[1] <= 0.337\\\\nmse = 63.1\\\\nsamples = 313\\\\nvalue = 23.599\"] ;\\n1 [label=\"X[2] <= 0.209\\\\nmse = 35.353\\\\nsamples = 176\\\\nvalue = 28.994\"] ;\\n0 -> 1 [labeldistance=2.5, labelangle=45, headlabel=\"True\"] ;\\n2 [label=\"X[5] <= 0.542\\\\nmse = 24.234\\\\nsamples = 101\\\\nvalue = 32.242\"] ;\\n1 -> 2 ;\\n3 [label=\"X[3] <= 0.138\\\\nmse = 11.145\\\\nsamples = 30\\\\nvalue = 28.283\"] ;\\n2 -> 3 ;\\n4 [label=\"X[6] <= 0.75\\\\nmse = 4.718\\\\nsamples = 16\\\\nvalue = 30.781\"] ;\\n3 -> 4 ;\\n5 [label=\"X[2] <= 0.095\\\\nmse = 2.745\\\\nsamples = 7\\\\nvalue = 28.929\"] ;\\n4 -> 5 ;\\n6 [label=\"X[3] <= 0.091\\\\nmse = 1.556\\\\nsamples = 3\\\\nvalue = 27.333\"] ;\\n5 -> 6 ;\\n7 [label=\"X[3] <= 0.063\\\\nmse = 0.25\\\\nsamples = 2\\\\nvalue = 26.5\"] ;\\n6 -> 7 ;\\n8 [label=\"mse = 0.0\\\\nsamples = 1\\\\nvalue = 27.0\"] ;\\n7 -> 8 ;\\n9 [label=\"mse = 0.0\\\\nsamples = 1\\\\nvalue = 26.0\"] ;\\n7 -> 9 ;\\n10 [label=\"mse = 0.0\\\\nsamples = 1\\\\nvalue = 29.0\"] ;\\n6 -> 10 ;\\n11 [label=\"X[2] <= 0.122\\\\nmse = 0.297\\\\nsamples = 4\\\\nvalue = 30.125\"] ;\\n5 -> 11 ;\\n12 [label=\"mse = 0.0\\\\nsamples = 1\\\\nvalue = 31.0\"] ;\\n11 -> 12 ;\\n13 [label=\"X[4] <= 0.318\\\\nmse = 0.056\\\\nsamples = 3\\\\nvalue = 29.833\"] ;\\n11 -> 13 ;\\n14 [label=\"mse = 0.0\\\\nsamples = 1\\\\nvalue = 29.5\"] ;\\n13 -> 14 ;\\n15 [label=\"mse = 0.0\\\\nsamples = 2\\\\nvalue = 30.0\"] ;\\n13 -> 15 ;\\n16 [label=\"X[3] <= 0.005\\\\nmse = 1.506\\\\nsamples = 9\\\\nvalue = 32.222\"] ;\\n4 -> 16 ;\\n17 [label=\"mse = 0.0\\\\nsamples = 1\\\\nvalue = 35.0\"] ;\\n16 -> 17 ;\\n18 [label=\"X[1] <= 0.052\\\\nmse = 0.609\\\\nsamples = 8\\\\nvalue = 31.875\"] ;\\n16 -> 18 ;\\n19 [label=\"X[1] <= 0.034\\\\nmse = 0.25\\\\nsamples = 6\\\\nvalue = 31.5\"] ;\\n18 -> 19 ;\\n20 [label=\"X[4] <= 0.714\\\\nmse = 0.188\\\\nsamples = 4\\\\nvalue = 31.25\"] ;\\n19 -> 20 ;\\n21 [label=\"mse = 0.0\\\\nsamples = 3\\\\nvalue = 31.0\"] ;\\n20 -> 21 ;\\n22 [label=\"mse = 0.0\\\\nsamples = 1\\\\nvalue = 32.0\"] ;\\n20 -> 22 ;\\n23 [label=\"mse = 0.0\\\\nsamples = 2\\\\nvalue = 32.0\"] ;\\n19 -> 23 ;\\n24 [label=\"mse = 0.0\\\\nsamples = 2\\\\nvalue = 33.0\"] ;\\n18 -> 24 ;\\n25 [label=\"X[4] <= 0.521\\\\nmse = 3.209\\\\nsamples = 14\\\\nvalue = 25.429\"] ;\\n3 -> 25 ;\\n26 [label=\"X[5] <= 0.292\\\\nmse = 2.215\\\\nsamples = 8\\\\nvalue = 26.438\"] ;\\n25 -> 26 ;\\n27 [label=\"mse = 0.0\\\\nsamples = 1\\\\nvalue = 24.0\"] ;\\n26 -> 27 ;\\n28 [label=\"X[3] <= 0.172\\\\nmse = 1.561\\\\nsamples = 7\\\\nvalue = 26.786\"] ;\\n26 -> 28 ;\\n29 [label=\"X[1] <= 0.081\\\\nmse = 0.667\\\\nsamples = 3\\\\nvalue = 28.0\"] ;\\n28 -> 29 ;\\n30 [label=\"X[3] <= 0.158\\\\nmse = 0.25\\\\nsamples = 2\\\\nvalue = 28.5\"] ;\\n29 -> 30 ;\\n31 [label=\"mse = 0.0\\\\nsamples = 1\\\\nvalue = 28.0\"] ;\\n30 -> 31 ;\\n32 [label=\"mse = 0.0\\\\nsamples = 1\\\\nvalue = 29.0\"] ;\\n30 -> 32 ;\\n33 [label=\"mse = 0.0\\\\nsamples = 1\\\\nvalue = 27.0\"] ;\\n29 -> 33 ;\\n34 [label=\"X[3] <= 0.176\\\\nmse = 0.297\\\\nsamples = 4\\\\nvalue = 25.875\"] ;\\n28 -> 34 ;\\n35 [label=\"mse = 0.0\\\\nsamples = 1\\\\nvalue = 25.0\"] ;\\n34 -> 35 ;\\n36 [label=\"X[2] <= 0.149\\\\nmse = 0.056\\\\nsamples = 3\\\\nvalue = 26.167\"] ;\\n34 -> 36 ;\\n37 [label=\"mse = 0.0\\\\nsamples = 1\\\\nvalue = 26.5\"] ;\\n36 -> 37 ;\\n38 [label=\"mse = 0.0\\\\nsamples = 2\\\\nvalue = 26.0\"] ;\\n36 -> 38 ;\\n39 [label=\"X[5] <= 0.458\\\\nmse = 1.368\\\\nsamples = 6\\\\nvalue = 24.083\"] ;\\n25 -> 39 ;\\n40 [label=\"X[5] <= 0.375\\\\nmse = 0.75\\\\nsamples = 4\\\\nvalue = 23.5\"] ;\\n39 -> 40 ;\\n41 [label=\"X[6] <= 0.25\\\\nmse = 1.0\\\\nsamples = 2\\\\nvalue = 24.0\"] ;\\n40 -> 41 ;\\n42 [label=\"mse = 0.0\\\\nsamples = 1\\\\nvalue = 25.0\"] ;\\n41 -> 42 ;\\n43 [label=\"mse = 0.0\\\\nsamples = 1\\\\nvalue = 23.0\"] ;\\n41 -> 43 ;\\n44 [label=\"mse = 0.0\\\\nsamples = 2\\\\nvalue = 23.0\"] ;\\n40 -> 44 ;\\n45 [label=\"X[3] <= 0.169\\\\nmse = 0.562\\\\nsamples = 2\\\\nvalue = 25.25\"] ;\\n39 -> 45 ;\\n46 [label=\"mse = 0.0\\\\nsamples = 1\\\\nvalue = 24.5\"] ;\\n45 -> 46 ;\\n47 [label=\"mse = 0.0\\\\nsamples = 1\\\\nvalue = 26.0\"] ;\\n45 -> 47 ;\\n48 [label=\"X[1] <= 0.067\\\\nmse = 20.348\\\\nsamples = 71\\\\nvalue = 33.914\"] ;\\n2 -> 48 ;\\n49 [label=\"X[3] <= 0.132\\\\nmse = 21.211\\\\nsamples = 26\\\\nvalue = 37.108\"] ;\\n48 -> 49 ;\\n50 [label=\"X[4] <= 0.351\\\\nmse = 14.731\\\\nsamples = 22\\\\nvalue = 35.895\"] ;\\n49 -> 50 ;\\n51 [label=\"mse = 0.0\\\\nsamples = 1\\\\nvalue = 44.6\"] ;\\n50 -> 51 ;\\n52 [label=\"X[2] <= 0.022\\\\nmse = 11.653\\\\nsamples = 21\\\\nvalue = 35.481\"] ;\\n50 -> 52 ;\\n53 [label=\"mse = 0.0\\\\nsamples = 1\\\\nvalue = 43.1\"] ;\\n52 -> 53 ;\\n54 [label=\"X[4] <= 0.47\\\\nmse = 9.188\\\\nsamples = 20\\\\nvalue = 35.1\"] ;\\n52 -> 54 ;\\n55 [label=\"X[6] <= 0.75\\\\nmse = 6.805\\\\nsamples = 6\\\\nvalue = 32.883\"] ;\\n54 -> 55 ;\\n56 [label=\"X[3] <= 0.077\\\\nmse = 0.829\\\\nsamples = 3\\\\nvalue = 31.067\"] ;\\n55 -> 56 ;\\n57 [label=\"mse = 0.0\\\\nsamples = 1\\\\nvalue = 29.8\"] ;\\n56 -> 57 ;\\n58 [label=\"X[5] <= 0.708\\\\nmse = 0.04\\\\nsamples = 2\\\\nvalue = 31.7\"] ;\\n56 -> 58 ;\\n59 [label=\"mse = 0.0\\\\nsamples = 1\\\\nvalue = 31.5\"] ;\\n58 -> 59 ;\\n60 [label=\"mse = 0.0\\\\nsamples = 1\\\\nvalue = 31.9\"] ;\\n58 -> 60 ;\\n61 [label=\"X[4] <= 0.423\\\\nmse = 6.18\\\\nsamples = 3\\\\nvalue = 34.7\"] ;\\n55 -> 61 ;\\n62 [label=\"mse = 0.0\\\\nsamples = 1\\\\nvalue = 38.0\"] ;\\n61 -> 62 ;\\n63 [label=\"X[4] <= 0.443\\\\nmse = 1.103\\\\nsamples = 2\\\\nvalue = 33.05\"] ;\\n61 -> 63 ;\\n64 [label=\"mse = 0.0\\\\nsamples = 1\\\\nvalue = 34.1\"] ;\\n63 -> 64 ;\\n65 [label=\"mse = 0.0\\\\nsamples = 1\\\\nvalue = 32.0\"] ;\\n63 -> 65 ;\\n66 [label=\"X[4] <= 0.655\\\\nmse = 7.201\\\\nsamples = 14\\\\nvalue = 36.05\"] ;\\n54 -> 66 ;\\n67 [label=\"X[5] <= 0.958\\\\nmse = 6.126\\\\nsamples = 11\\\\nvalue = 36.645\"] ;\\n66 -> 67 ;\\n68 [label=\"X[5] <= 0.625\\\\nmse = 3.587\\\\nsamples = 9\\\\nvalue = 37.233\"] ;\\n67 -> 68 ;\\n69 [label=\"X[1] <= 0.036\\\\nmse = 1.562\\\\nsamples = 2\\\\nvalue = 34.75\"] ;\\n68 -> 69 ;\\n70 [label=\"mse = 0.0\\\\nsamples = 1\\\\nvalue = 36.0\"] ;\\n69 -> 70 ;\\n71 [label=\"mse = 0.0\\\\nsamples = 1\\\\nvalue = 33.5\"] ;\\n69 -> 71 ;\\n72 [label=\"X[4] <= 0.491\\\\nmse = 1.9\\\\nsamples = 7\\\\nvalue = 37.943\"] ;\\n68 -> 72 ;\\n73 [label=\"mse = 0.0\\\\nsamples = 1\\\\nvalue = 35.1\"] ;\\n72 -> 73 ;\\n74 [label=\"X[1] <= 0.045\\\\nmse = 0.645\\\\nsamples = 6\\\\nvalue = 38.417\"] ;\\n72 -> 74 ;\\n75 [label=\"X[1] <= 0.036\\\\nmse = 0.023\\\\nsamples = 2\\\\nvalue = 39.25\"] ;\\n74 -> 75 ;\\n76 [label=\"mse = 0.0\\\\nsamples = 1\\\\nvalue = 39.1\"] ;\\n75 -> 76 ;\\n77 [label=\"mse = 0.0\\\\nsamples = 1\\\\nvalue = 39.4\"] ;\\n75 -> 77 ;\\n78 [label=\"X[3] <= 0.087\\\\nmse = 0.435\\\\nsamples = 4\\\\nvalue = 38.0\"] ;\\n74 -> 78 ;\\n79 [label=\"mse = 0.0\\\\nsamples = 1\\\\nvalue = 39.0\"] ;\\n78 -> 79 ;\\n80 [label=\"X[2] <= 0.095\\\\nmse = 0.136\\\\nsamples = 3\\\\nvalue = 37.667\"] ;\\n78 -> 80 ;\\n81 [label=\"X[2] <= 0.082\\\\nmse = 0.04\\\\nsamples = 2\\\\nvalue = 37.9\"] ;\\n80 -> 81 ;\\n82 [label=\"mse = 0.0\\\\nsamples = 1\\\\nvalue = 38.1\"] ;\\n81 -> 82 ;\\n83 [label=\"mse = -0.0\\\\nsamples = 1\\\\nvalue = 37.7\"] ;\\n81 -> 83 ;\\n84 [label=\"mse = -0.0\\\\nsamples = 1\\\\nvalue = 37.2\"] ;\\n80 -> 84 ;\\n85 [label=\"X[3] <= 0.109\\\\nmse = 9.0\\\\nsamples = 2\\\\nvalue = 34.0\"] ;\\n67 -> 85 ;\\n86 [label=\"mse = 0.0\\\\nsamples = 1\\\\nvalue = 31.0\"] ;\\n85 -> 86 ;\\n87 [label=\"mse = 0.0\\\\nsamples = 1\\\\nvalue = 37.0\"] ;\\n85 -> 87 ;\\n88 [label=\"X[3] <= 0.104\\\\nmse = 5.076\\\\nsamples = 3\\\\nvalue = 33.867\"] ;\\n66 -> 88 ;\\n89 [label=\"mse = 0.0\\\\nsamples = 1\\\\nvalue = 37.0\"] ;\\n88 -> 89 ;\\n90 [label=\"X[5] <= 0.708\\\\nmse = 0.25\\\\nsamples = 2\\\\nvalue = 32.3\"] ;\\n88 -> 90 ;\\n91 [label=\"mse = 0.0\\\\nsamples = 1\\\\nvalue = 32.8\"] ;\\n90 -> 91 ;\\n92 [label=\"mse = 0.0\\\\nsamples = 1\\\\nvalue = 31.8\"] ;\\n90 -> 92 ;\\n93 [label=\"X[1] <= 0.045\\\\nmse = 4.312\\\\nsamples = 4\\\\nvalue = 43.775\"] ;\\n49 -> 93 ;\\n94 [label=\"mse = 0.0\\\\nsamples = 1\\\\nvalue = 40.8\"] ;\\n93 -> 94 ;\\n95 [label=\"X[1] <= 0.052\\\\nmse = 1.816\\\\nsamples = 3\\\\nvalue = 44.767\"] ;\\n93 -> 95 ;\\n96 [label=\"mse = 0.0\\\\nsamples = 1\\\\nvalue = 46.6\"] ;\\n95 -> 96 ;\\n97 [label=\"X[4] <= 0.875\\\\nmse = 0.202\\\\nsamples = 2\\\\nvalue = 43.85\"] ;\\n95 -> 97 ;\\n98 [label=\"mse = 0.0\\\\nsamples = 1\\\\nvalue = 44.3\"] ;\\n97 -> 98 ;\\n99 [label=\"mse = 0.0\\\\nsamples = 1\\\\nvalue = 43.4\"] ;\\n97 -> 99 ;\\n100 [label=\"X[3] <= 0.216\\\\nmse = 10.551\\\\nsamples = 45\\\\nvalue = 32.069\"] ;\\n48 -> 100 ;\\n101 [label=\"X[5] <= 0.708\\\\nmse = 7.377\\\\nsamples = 31\\\\nvalue = 33.3\"] ;\\n100 -> 101 ;\\n102 [label=\"X[3] <= 0.073\\\\nmse = 3.841\\\\nsamples = 11\\\\nvalue = 31.045\"] ;\\n101 -> 102 ;\\n103 [label=\"mse = 0.0\\\\nsamples = 1\\\\nvalue = 36.1\"] ;\\n102 -> 103 ;\\n104 [label=\"X[2] <= 0.193\\\\nmse = 1.414\\\\nsamples = 10\\\\nvalue = 30.54\"] ;\\n102 -> 104 ;\\n105 [label=\"X[4] <= 0.58\\\\nmse = 0.49\\\\nsamples = 9\\\\nvalue = 30.211\"] ;\\n104 -> 105 ;\\n106 [label=\"X[3] <= 0.099\\\\nmse = 0.318\\\\nsamples = 8\\\\nvalue = 30.05\"] ;\\n105 -> 106 ;\\n107 [label=\"mse = 0.0\\\\nsamples = 1\\\\nvalue = 29.0\"] ;\\n106 -> 107 ;\\n108 [label=\"X[3] <= 0.159\\\\nmse = 0.183\\\\nsamples = 7\\\\nvalue = 30.2\"] ;\\n106 -> 108 ;\\n109 [label=\"X[4] <= 0.524\\\\nmse = 0.1\\\\nsamples = 5\\\\nvalue = 30.0\"] ;\\n108 -> 109 ;\\n110 [label=\"X[4] <= 0.509\\\\nmse = 0.047\\\\nsamples = 4\\\\nvalue = 29.875\"] ;\\n109 -> 110 ;\\n111 [label=\"mse = 0.0\\\\nsamples = 3\\\\nvalue = 30.0\"] ;\\n110 -> 111 ;\\n112 [label=\"mse = 0.0\\\\nsamples = 1\\\\nvalue = 29.5\"] ;\\n110 -> 112 ;\\n113 [label=\"mse = 0.0\\\\nsamples = 1\\\\nvalue = 30.5\"] ;\\n109 -> 113 ;\\n114 [label=\"X[5] <= 0.625\\\\nmse = 0.04\\\\nsamples = 2\\\\nvalue = 30.7\"] ;\\n108 -> 114 ;\\n115 [label=\"mse = 0.0\\\\nsamples = 1\\\\nvalue = 30.5\"] ;\\n114 -> 115 ;\\n116 [label=\"mse = 0.0\\\\nsamples = 1\\\\nvalue = 30.9\"] ;\\n114 -> 116 ;\\n117 [label=\"mse = 0.0\\\\nsamples = 1\\\\nvalue = 31.5\"] ;\\n105 -> 117 ;\\n118 [label=\"mse = 0.0\\\\nsamples = 1\\\\nvalue = 33.5\"] ;\\n104 -> 118 ;\\n119 [label=\"X[4] <= 0.42\\\\nmse = 4.988\\\\nsamples = 20\\\\nvalue = 34.54\"] ;\\n101 -> 119 ;\\n120 [label=\"X[3] <= 0.151\\\\nmse = 6.157\\\\nsamples = 11\\\\nvalue = 35.391\"] ;\\n119 -> 120 ;\\n121 [label=\"X[6] <= 0.25\\\\nmse = 5.687\\\\nsamples = 3\\\\nvalue = 38.4\"] ;\\n120 -> 121 ;\\n122 [label=\"X[1] <= 0.087\\\\nmse = 1.322\\\\nsamples = 2\\\\nvalue = 36.85\"] ;\\n121 -> 122 ;\\n123 [label=\"mse = 0.0\\\\nsamples = 1\\\\nvalue = 35.7\"] ;\\n122 -> 123 ;\\n124 [label=\"mse = 0.0\\\\nsamples = 1\\\\nvalue = 38.0\"] ;\\n122 -> 124 ;\\n125 [label=\"mse = -0.0\\\\nsamples = 1\\\\nvalue = 41.5\"] ;\\n121 -> 125 ;\\n126 [label=\"X[4] <= 0.256\\\\nmse = 1.665\\\\nsamples = 8\\\\nvalue = 34.262\"] ;\\n120 -> 126 ;\\n127 [label=\"mse = 0.0\\\\nsamples = 1\\\\nvalue = 32.0\"] ;\\n126 -> 127 ;\\n128 [label=\"X[5] <= 0.958\\\\nmse = 1.067\\\\nsamples = 7\\\\nvalue = 34.586\"] ;\\n126 -> 128 ;\\n129 [label=\"X[2] <= 0.141\\\\nmse = 0.374\\\\nsamples = 5\\\\nvalue = 34.02\"] ;\\n128 -> 129 ;\\n130 [label=\"X[4] <= 0.36\\\\nmse = 0.042\\\\nsamples = 3\\\\nvalue = 34.467\"] ;\\n129 -> 130 ;\\n131 [label=\"mse = 0.0\\\\nsamples = 1\\\\nvalue = 34.2\"] ;\\n130 -> 131 ;\\n132 [label=\"X[3] <= 0.161\\\\nmse = 0.01\\\\nsamples = 2\\\\nvalue = 34.6\"] ;\\n130 -> 132 ;\\n133 [label=\"mse = 0.0\\\\nsamples = 1\\\\nvalue = 34.5\"] ;\\n132 -> 133 ;\\n134 [label=\"mse = 0.0\\\\nsamples = 1\\\\nvalue = 34.7\"] ;\\n132 -> 134 ;\\n135 [label=\"X[4] <= 0.375\\\\nmse = 0.123\\\\nsamples = 2\\\\nvalue = 33.35\"] ;\\n129 -> 135 ;\\n136 [label=\"mse = 0.0\\\\nsamples = 1\\\\nvalue = 33.0\"] ;\\n135 -> 136 ;\\n137 [label=\"mse = 0.0\\\\nsamples = 1\\\\nvalue = 33.7\"] ;\\n135 -> 137 ;\\n138 [label=\"X[4] <= 0.342\\\\nmse = 0.0\\\\nsamples = 2\\\\nvalue = 36.0\"] ;\\n128 -> 138 ;\\n139 [label=\"mse = 0.0\\\\nsamples = 1\\\\nvalue = 36.0\"] ;\\n138 -> 139 ;\\n140 [label=\"mse = 0.0\\\\nsamples = 1\\\\nvalue = 36.0\"] ;\\n138 -> 140 ;\\n141 [label=\"X[5] <= 0.958\\\\nmse = 1.593\\\\nsamples = 9\\\\nvalue = 33.5\"] ;\\n119 -> 141 ;\\n142 [label=\"X[4] <= 0.455\\\\nmse = 0.936\\\\nsamples = 7\\\\nvalue = 33.071\"] ;\\n141 -> 142 ;\\n143 [label=\"X[1] <= 0.09\\\\nmse = 0.002\\\\nsamples = 2\\\\nvalue = 32.15\"] ;\\n142 -> 143 ;\\n144 [label=\"mse = 0.0\\\\nsamples = 1\\\\nvalue = 32.1\"] ;\\n143 -> 144 ;\\n145 [label=\"mse = -0.0\\\\nsamples = 1\\\\nvalue = 32.2\"] ;\\n143 -> 145 ;\\n146 [label=\"X[6] <= 0.75\\\\nmse = 0.834\\\\nsamples = 5\\\\nvalue = 33.44\"] ;\\n142 -> 146 ;\\n147 [label=\"X[3] <= 0.143\\\\nmse = 0.003\\\\nsamples = 2\\\\nvalue = 34.35\"] ;\\n146 -> 147 ;\\n148 [label=\"mse = 0.0\\\\nsamples = 1\\\\nvalue = 34.4\"] ;\\n147 -> 148 ;\\n149 [label=\"mse = 0.0\\\\nsamples = 1\\\\nvalue = 34.3\"] ;\\n147 -> 149 ;\\n150 [label=\"X[4] <= 0.589\\\\nmse = 0.469\\\\nsamples = 3\\\\nvalue = 32.833\"] ;\\n146 -> 150 ;\\n151 [label=\"X[1] <= 0.088\\\\nmse = 0.003\\\\nsamples = 2\\\\nvalue = 32.35\"] ;\\n150 -> 151 ;\\n152 [label=\"mse = 0.0\\\\nsamples = 1\\\\nvalue = 32.3\"] ;\\n151 -> 152 ;\\n153 [label=\"mse = 0.0\\\\nsamples = 1\\\\nvalue = 32.4\"] ;\\n151 -> 153 ;\\n154 [label=\"mse = 0.0\\\\nsamples = 1\\\\nvalue = 33.8\"] ;\\n150 -> 154 ;\\n155 [label=\"X[4] <= 0.542\\\\nmse = 1.0\\\\nsamples = 2\\\\nvalue = 35.0\"] ;\\n141 -> 155 ;\\n156 [label=\"mse = 0.0\\\\nsamples = 1\\\\nvalue = 34.0\"] ;\\n155 -> 156 ;\\n157 [label=\"mse = 0.0\\\\nsamples = 1\\\\nvalue = 36.0\"] ;\\n155 -> 157 ;\\n158 [label=\"X[1] <= 0.155\\\\nmse = 6.794\\\\nsamples = 14\\\\nvalue = 29.343\"] ;\\n100 -> 158 ;\\n159 [label=\"X[0] <= 0.3\\\\nmse = 7.79\\\\nsamples = 5\\\\nvalue = 31.32\"] ;\\n158 -> 159 ;\\n160 [label=\"X[5] <= 0.875\\\\nmse = 1.673\\\\nsamples = 4\\\\nvalue = 30.05\"] ;\\n159 -> 160 ;\\n161 [label=\"mse = 0.0\\\\nsamples = 1\\\\nvalue = 31.3\"] ;\\n160 -> 161 ;\\n162 [label=\"X[1] <= 0.133\\\\nmse = 1.536\\\\nsamples = 3\\\\nvalue = 29.633\"] ;\\n160 -> 162 ;\\n163 [label=\"X[1] <= 0.105\\\\nmse = 0.302\\\\nsamples = 2\\\\nvalue = 30.45\"] ;\\n162 -> 163 ;\\n164 [label=\"mse = 0.0\\\\nsamples = 1\\\\nvalue = 29.9\"] ;\\n163 -> 164 ;\\n165 [label=\"mse = -0.0\\\\nsamples = 1\\\\nvalue = 31.0\"] ;\\n163 -> 165 ;\\n166 [label=\"mse = 0.0\\\\nsamples = 1\\\\nvalue = 28.0\"] ;\\n162 -> 166 ;\\n167 [label=\"mse = -0.0\\\\nsamples = 1\\\\nvalue = 36.4\"] ;\\n159 -> 167 ;\\n168 [label=\"X[1] <= 0.208\\\\nmse = 2.862\\\\nsamples = 9\\\\nvalue = 28.244\"] ;\\n158 -> 168 ;\\n169 [label=\"X[1] <= 0.194\\\\nmse = 1.727\\\\nsamples = 7\\\\nvalue = 28.886\"] ;\\n168 -> 169 ;\\n170 [label=\"X[4] <= 0.375\\\\nmse = 1.168\\\\nsamples = 5\\\\nvalue = 28.3\"] ;\\n169 -> 170 ;\\n171 [label=\"mse = 0.0\\\\nsamples = 1\\\\nvalue = 30.0\"] ;\\n170 -> 171 ;\\n172 [label=\"X[5] <= 0.958\\\\nmse = 0.557\\\\nsamples = 4\\\\nvalue = 27.875\"] ;\\n170 -> 172 ;\\n173 [label=\"X[3] <= 0.453\\\\nmse = 0.18\\\\nsamples = 3\\\\nvalue = 27.5\"] ;\\n172 -> 173 ;\\n174 [label=\"mse = 0.0\\\\nsamples = 2\\\\nvalue = 27.2\"] ;\\n173 -> 174 ;\\n175 [label=\"mse = 0.0\\\\nsamples = 1\\\\nvalue = 28.1\"] ;\\n173 -> 175 ;\\n176 [label=\"mse = 0.0\\\\nsamples = 1\\\\nvalue = 29.0\"] ;\\n172 -> 176 ;\\n177 [label=\"X[1] <= 0.2\\\\nmse = 0.123\\\\nsamples = 2\\\\nvalue = 30.35\"] ;\\n169 -> 177 ;\\n178 [label=\"mse = 0.0\\\\nsamples = 1\\\\nvalue = 30.7\"] ;\\n177 -> 178 ;\\n179 [label=\"mse = -0.0\\\\nsamples = 1\\\\nvalue = 30.0\"] ;\\n177 -> 179 ;\\n180 [label=\"X[5] <= 0.833\\\\nmse = 0.36\\\\nsamples = 2\\\\nvalue = 26.0\"] ;\\n168 -> 180 ;\\n181 [label=\"mse = 0.0\\\\nsamples = 1\\\\nvalue = 25.4\"] ;\\n180 -> 181 ;\\n182 [label=\"mse = 0.0\\\\nsamples = 1\\\\nvalue = 26.6\"] ;\\n180 -> 182 ;\\n183 [label=\"X[5] <= 0.708\\\\nmse = 16.99\\\\nsamples = 75\\\\nvalue = 24.62\"] ;\\n1 -> 183 ;\\n184 [label=\"X[3] <= 0.331\\\\nmse = 9.303\\\\nsamples = 49\\\\nvalue = 22.835\"] ;\\n183 -> 184 ;\\n185 [label=\"X[4] <= 0.595\\\\nmse = 6.581\\\\nsamples = 37\\\\nvalue = 23.846\"] ;\\n184 -> 185 ;\\n186 [label=\"X[1] <= 0.053\\\\nmse = 5.465\\\\nsamples = 34\\\\nvalue = 24.215\"] ;\\n185 -> 186 ;\\n187 [label=\"X[1] <= 0.018\\\\nmse = 1.562\\\\nsamples = 2\\\\nvalue = 20.25\"] ;\\n186 -> 187 ;\\n188 [label=\"mse = 0.0\\\\nsamples = 1\\\\nvalue = 19.0\"] ;\\n187 -> 188 ;\\n189 [label=\"mse = 0.0\\\\nsamples = 1\\\\nvalue = 21.5\"] ;\\n187 -> 189 ;\\n190 [label=\"X[1] <= 0.102\\\\nmse = 4.665\\\\nsamples = 32\\\\nvalue = 24.462\"] ;\\n186 -> 190 ;\\n191 [label=\"X[5] <= 0.042\\\\nmse = 2.16\\\\nsamples = 5\\\\nvalue = 26.8\"] ;\\n190 -> 191 ;\\n192 [label=\"mse = 0.0\\\\nsamples = 1\\\\nvalue = 24.0\"] ;\\n191 -> 192 ;\\n193 [label=\"X[3] <= 0.169\\\\nmse = 0.25\\\\nsamples = 4\\\\nvalue = 27.5\"] ;\\n191 -> 193 ;\\n194 [label=\"mse = 0.0\\\\nsamples = 2\\\\nvalue = 27.0\"] ;\\n193 -> 194 ;\\n195 [label=\"mse = 0.0\\\\nsamples = 2\\\\nvalue = 28.0\"] ;\\n193 -> 195 ;\\n196 [label=\"X[3] <= 0.158\\\\nmse = 3.93\\\\nsamples = 27\\\\nvalue = 24.03\"] ;\\n190 -> 196 ;\\n197 [label=\"mse = 0.0\\\\nsamples = 1\\\\nvalue = 28.0\"] ;\\n196 -> 197 ;\\n198 [label=\"X[5] <= 0.292\\\\nmse = 3.452\\\\nsamples = 26\\\\nvalue = 23.877\"] ;\\n196 -> 198 ;\\n199 [label=\"X[5] <= 0.042\\\\nmse = 3.058\\\\nsamples = 11\\\\nvalue = 22.818\"] ;\\n198 -> 199 ;\\n200 [label=\"X[1] <= 0.127\\\\nmse = 0.667\\\\nsamples = 3\\\\nvalue = 25.0\"] ;\\n199 -> 200 ;\\n201 [label=\"X[6] <= 0.75\\\\nmse = 0.25\\\\nsamples = 2\\\\nvalue = 24.5\"] ;\\n200 -> 201 ;\\n202 [label=\"mse = 0.0\\\\nsamples = 1\\\\nvalue = 25.0\"] ;\\n201 -> 202 ;\\n203 [label=\"mse = 0.0\\\\nsamples = 1\\\\nvalue = 24.0\"] ;\\n201 -> 203 ;\\n204 [label=\"mse = 0.0\\\\nsamples = 1\\\\nvalue = 26.0\"] ;\\n200 -> 204 ;\\n205 [label=\"X[2] <= 0.34\\\\nmse = 1.5\\\\nsamples = 8\\\\nvalue = 22.0\"] ;\\n199 -> 205 ;\\n206 [label=\"X[3] <= 0.264\\\\nmse = 1.061\\\\nsamples = 7\\\\nvalue = 21.714\"] ;\\n205 -> 206 ;\\n207 [label=\"X[1] <= 0.182\\\\nmse = 0.667\\\\nsamples = 6\\\\nvalue = 22.0\"] ;\\n206 -> 207 ;\\n208 [label=\"X[4] <= 0.432\\\\nmse = 0.56\\\\nsamples = 5\\\\nvalue = 22.2\"] ;\\n207 -> 208 ;\\n209 [label=\"mse = 0.0\\\\nsamples = 2\\\\nvalue = 23.0\"] ;\\n208 -> 209 ;\\n210 [label=\"X[3] <= 0.195\\\\nmse = 0.222\\\\nsamples = 3\\\\nvalue = 21.667\"] ;\\n208 -> 210 ;\\n211 [label=\"mse = 0.0\\\\nsamples = 1\\\\nvalue = 21.0\"] ;\\n210 -> 211 ;\\n212 [label=\"mse = 0.0\\\\nsamples = 2\\\\nvalue = 22.0\"] ;\\n210 -> 212 ;\\n213 [label=\"mse = 0.0\\\\nsamples = 1\\\\nvalue = 21.0\"] ;\\n207 -> 213 ;\\n214 [label=\"mse = 0.0\\\\nsamples = 1\\\\nvalue = 20.0\"] ;\\n206 -> 214 ;\\n215 [label=\"mse = 0.0\\\\nsamples = 1\\\\nvalue = 24.0\"] ;\\n205 -> 215 ;\\n216 [label=\"X[4] <= 0.307\\\\nmse = 2.316\\\\nsamples = 15\\\\nvalue = 24.653\"] ;\\n198 -> 216 ;\\n217 [label=\"mse = 0.0\\\\nsamples = 1\\\\nvalue = 21.5\"] ;\\n216 -> 217 ;\\n218 [label=\"X[3] <= 0.223\\\\nmse = 1.72\\\\nsamples = 14\\\\nvalue = 24.879\"] ;\\n216 -> 218 ;\\n219 [label=\"X[5] <= 0.625\\\\nmse = 0.509\\\\nsamples = 3\\\\nvalue = 26.233\"] ;\\n218 -> 219 ;\\n220 [label=\"X[6] <= 0.5\\\\nmse = 0.062\\\\nsamples = 2\\\\nvalue = 25.75\"] ;\\n219 -> 220 ;\\n221 [label=\"mse = 0.0\\\\nsamples = 1\\\\nvalue = 25.5\"] ;\\n220 -> 221 ;\\n222 [label=\"mse = 0.0\\\\nsamples = 1\\\\nvalue = 26.0\"] ;\\n220 -> 222 ;\\n223 [label=\"mse = 0.0\\\\nsamples = 1\\\\nvalue = 27.2\"] ;\\n219 -> 223 ;\\n224 [label=\"X[4] <= 0.39\\\\nmse = 1.414\\\\nsamples = 11\\\\nvalue = 24.509\"] ;\\n218 -> 224 ;\\n225 [label=\"X[4] <= 0.348\\\\nmse = 2.167\\\\nsamples = 3\\\\nvalue = 25.5\"] ;\\n224 -> 225 ;\\n226 [label=\"X[2] <= 0.323\\\\nmse = 0.25\\\\nsamples = 2\\\\nvalue = 24.5\"] ;\\n225 -> 226 ;\\n227 [label=\"mse = 0.0\\\\nsamples = 1\\\\nvalue = 24.0\"] ;\\n226 -> 227 ;\\n228 [label=\"mse = 0.0\\\\nsamples = 1\\\\nvalue = 25.0\"] ;\\n226 -> 228 ;\\n229 [label=\"mse = 0.0\\\\nsamples = 1\\\\nvalue = 27.5\"] ;\\n225 -> 229 ;\\n230 [label=\"X[2] <= 0.258\\\\nmse = 0.625\\\\nsamples = 8\\\\nvalue = 24.138\"] ;\\n224 -> 230 ;\\n231 [label=\"X[4] <= 0.47\\\\nmse = 0.167\\\\nsamples = 3\\\\nvalue = 25.0\"] ;\\n230 -> 231 ;\\n232 [label=\"X[4] <= 0.438\\\\nmse = 0.062\\\\nsamples = 2\\\\nvalue = 25.25\"] ;\\n231 -> 232 ;\\n233 [label=\"mse = 0.0\\\\nsamples = 1\\\\nvalue = 25.0\"] ;\\n232 -> 233 ;\\n234 [label=\"mse = 0.0\\\\nsamples = 1\\\\nvalue = 25.5\"] ;\\n232 -> 234 ;\\n235 [label=\"mse = 0.0\\\\nsamples = 1\\\\nvalue = 24.5\"] ;\\n231 -> 235 ;\\n236 [label=\"X[3] <= 0.285\\\\nmse = 0.186\\\\nsamples = 5\\\\nvalue = 23.62\"] ;\\n230 -> 236 ;\\n237 [label=\"X[4] <= 0.414\\\\nmse = 0.002\\\\nsamples = 3\\\\nvalue = 23.967\"] ;\\n236 -> 237 ;\\n238 [label=\"mse = 0.0\\\\nsamples = 1\\\\nvalue = 23.9\"] ;\\n237 -> 238 ;\\n239 [label=\"mse = -0.0\\\\nsamples = 2\\\\nvalue = 24.0\"] ;\\n237 -> 239 ;\\n240 [label=\"X[2] <= 0.293\\\\nmse = 0.01\\\\nsamples = 2\\\\nvalue = 23.1\"] ;\\n236 -> 240 ;\\n241 [label=\"mse = 0.0\\\\nsamples = 1\\\\nvalue = 23.0\"] ;\\n240 -> 241 ;\\n242 [label=\"mse = -0.0\\\\nsamples = 1\\\\nvalue = 23.2\"] ;\\n240 -> 242 ;\\n243 [label=\"X[2] <= 0.22\\\\nmse = 0.222\\\\nsamples = 3\\\\nvalue = 19.667\"] ;\\n185 -> 243 ;\\n244 [label=\"mse = 0.0\\\\nsamples = 1\\\\nvalue = 19.0\"] ;\\n243 -> 244 ;\\n245 [label=\"mse = 0.0\\\\nsamples = 2\\\\nvalue = 20.0\"] ;\\n243 -> 245 ;\\n246 [label=\"X[2] <= 0.334\\\\nmse = 4.818\\\\nsamples = 12\\\\nvalue = 19.717\"] ;\\n184 -> 246 ;\\n247 [label=\"X[3] <= 0.383\\\\nmse = 3.888\\\\nsamples = 7\\\\nvalue = 20.871\"] ;\\n246 -> 247 ;\\n248 [label=\"X[3] <= 0.349\\\\nmse = 1.707\\\\nsamples = 4\\\\nvalue = 22.275\"] ;\\n247 -> 248 ;\\n249 [label=\"mse = 0.0\\\\nsamples = 1\\\\nvalue = 20.3\"] ;\\n248 -> 249 ;\\n250 [label=\"X[3] <= 0.372\\\\nmse = 0.542\\\\nsamples = 3\\\\nvalue = 22.933\"] ;\\n248 -> 250 ;\\n251 [label=\"X[0] <= 0.4\\\\nmse = 0.16\\\\nsamples = 2\\\\nvalue = 23.4\"] ;\\n250 -> 251 ;\\n252 [label=\"mse = 0.0\\\\nsamples = 1\\\\nvalue = 23.8\"] ;\\n251 -> 252 ;\\n253 [label=\"mse = 0.0\\\\nsamples = 1\\\\nvalue = 23.0\"] ;\\n251 -> 253 ;\\n254 [label=\"mse = 0.0\\\\nsamples = 1\\\\nvalue = 22.0\"] ;\\n250 -> 254 ;\\n255 [label=\"X[1] <= 0.213\\\\nmse = 0.667\\\\nsamples = 3\\\\nvalue = 19.0\"] ;\\n247 -> 255 ;\\n256 [label=\"X[4] <= 0.643\\\\nmse = 0.25\\\\nsamples = 2\\\\nvalue = 19.5\"] ;\\n255 -> 256 ;\\n257 [label=\"mse = 0.0\\\\nsamples = 1\\\\nvalue = 20.0\"] ;\\n256 -> 257 ;\\n258 [label=\"mse = 0.0\\\\nsamples = 1\\\\nvalue = 19.0\"] ;\\n256 -> 258 ;\\n259 [label=\"mse = 0.0\\\\nsamples = 1\\\\nvalue = 18.0\"] ;\\n255 -> 259 ;\\n260 [label=\"X[3] <= 0.365\\\\nmse = 1.64\\\\nsamples = 5\\\\nvalue = 18.1\"] ;\\n246 -> 260 ;\\n261 [label=\"X[2] <= 0.386\\\\nmse = 0.25\\\\nsamples = 2\\\\nvalue = 19.5\"] ;\\n260 -> 261 ;\\n262 [label=\"mse = 0.0\\\\nsamples = 1\\\\nvalue = 19.0\"] ;\\n261 -> 262 ;\\n263 [label=\"mse = 0.0\\\\nsamples = 1\\\\nvalue = 20.0\"] ;\\n261 -> 263 ;\\n264 [label=\"X[3] <= 0.404\\\\nmse = 0.389\\\\nsamples = 3\\\\nvalue = 17.167\"] ;\\n260 -> 264 ;\\n265 [label=\"mse = 0.0\\\\nsamples = 1\\\\nvalue = 18.0\"] ;\\n264 -> 265 ;\\n266 [label=\"X[3] <= 0.529\\\\nmse = 0.062\\\\nsamples = 2\\\\nvalue = 16.75\"] ;\\n264 -> 266 ;\\n267 [label=\"mse = 0.0\\\\nsamples = 1\\\\nvalue = 17.0\"] ;\\n266 -> 267 ;\\n268 [label=\"mse = 0.0\\\\nsamples = 1\\\\nvalue = 16.5\"] ;\\n266 -> 268 ;\\n269 [label=\"X[3] <= 0.313\\\\nmse = 14.151\\\\nsamples = 26\\\\nvalue = 27.985\"] ;\\n183 -> 269 ;\\n270 [label=\"X[0] <= 0.1\\\\nmse = 12.908\\\\nsamples = 14\\\\nvalue = 29.85\"] ;\\n269 -> 270 ;\\n271 [label=\"mse = 0.0\\\\nsamples = 1\\\\nvalue = 23.7\"] ;\\n270 -> 271 ;\\n272 [label=\"X[3] <= 0.27\\\\nmse = 10.768\\\\nsamples = 13\\\\nvalue = 30.323\"] ;\\n270 -> 272 ;\\n273 [label=\"X[6] <= 0.5\\\\nmse = 2.389\\\\nsamples = 3\\\\nvalue = 34.833\"] ;\\n272 -> 273 ;\\n274 [label=\"X[5] <= 0.875\\\\nmse = 0.062\\\\nsamples = 2\\\\nvalue = 33.75\"] ;\\n273 -> 274 ;\\n275 [label=\"mse = 0.0\\\\nsamples = 1\\\\nvalue = 33.5\"] ;\\n274 -> 275 ;\\n276 [label=\"mse = 0.0\\\\nsamples = 1\\\\nvalue = 34.0\"] ;\\n274 -> 276 ;\\n277 [label=\"mse = 0.0\\\\nsamples = 1\\\\nvalue = 37.0\"] ;\\n273 -> 277 ;\\n278 [label=\"X[6] <= 0.5\\\\nmse = 5.348\\\\nsamples = 10\\\\nvalue = 28.97\"] ;\\n272 -> 278 ;\\n279 [label=\"X[2] <= 0.22\\\\nmse = 2.785\\\\nsamples = 7\\\\nvalue = 27.857\"] ;\\n278 -> 279 ;\\n280 [label=\"mse = 0.0\\\\nsamples = 1\\\\nvalue = 31.0\"] ;\\n279 -> 280 ;\\n281 [label=\"X[5] <= 0.875\\\\nmse = 1.329\\\\nsamples = 6\\\\nvalue = 27.333\"] ;\\n279 -> 281 ;\\n282 [label=\"X[4] <= 0.336\\\\nmse = 0.107\\\\nsamples = 3\\\\nvalue = 28.4\"] ;\\n281 -> 282 ;\\n283 [label=\"mse = 0.0\\\\nsamples = 1\\\\nvalue = 28.8\"] ;\\n282 -> 283 ;\\n284 [label=\"X[5] <= 0.792\\\\nmse = 0.04\\\\nsamples = 2\\\\nvalue = 28.2\"] ;\\n282 -> 284 ;\\n285 [label=\"mse = 0.0\\\\nsamples = 1\\\\nvalue = 28.4\"] ;\\n284 -> 285 ;\\n286 [label=\"mse = 0.0\\\\nsamples = 1\\\\nvalue = 28.0\"] ;\\n284 -> 286 ;\\n287 [label=\"X[3] <= 0.288\\\\nmse = 0.276\\\\nsamples = 3\\\\nvalue = 26.267\"] ;\\n281 -> 287 ;\\n288 [label=\"X[3] <= 0.281\\\\nmse = 0.01\\\\nsamples = 2\\\\nvalue = 25.9\"] ;\\n287 -> 288 ;\\n289 [label=\"mse = 0.0\\\\nsamples = 1\\\\nvalue = 26.0\"] ;\\n288 -> 289 ;\\n290 [label=\"mse = 0.0\\\\nsamples = 1\\\\nvalue = 25.8\"] ;\\n288 -> 290 ;\\n291 [label=\"mse = 0.0\\\\nsamples = 1\\\\nvalue = 27.0\"] ;\\n287 -> 291 ;\\n292 [label=\"X[4] <= 0.426\\\\nmse = 1.696\\\\nsamples = 3\\\\nvalue = 31.567\"] ;\\n278 -> 292 ;\\n293 [label=\"X[1] <= 0.164\\\\nmse = 0.203\\\\nsamples = 2\\\\nvalue = 32.45\"] ;\\n292 -> 293 ;\\n294 [label=\"mse = 0.0\\\\nsamples = 1\\\\nvalue = 32.9\"] ;\\n293 -> 294 ;\\n295 [label=\"mse = -0.0\\\\nsamples = 1\\\\nvalue = 32.0\"] ;\\n293 -> 295 ;\\n296 [label=\"mse = 0.0\\\\nsamples = 1\\\\nvalue = 29.8\"] ;\\n292 -> 296 ;\\n297 [label=\"X[4] <= 0.238\\\\nmse = 6.804\\\\nsamples = 12\\\\nvalue = 25.808\"] ;\\n269 -> 297 ;\\n298 [label=\"mse = 0.0\\\\nsamples = 1\\\\nvalue = 32.7\"] ;\\n297 -> 298 ;\\n299 [label=\"X[5] <= 0.792\\\\nmse = 2.712\\\\nsamples = 11\\\\nvalue = 25.182\"] ;\\n297 -> 299 ;\\n300 [label=\"mse = 0.0\\\\nsamples = 1\\\\nvalue = 22.3\"] ;\\n299 -> 300 ;\\n301 [label=\"X[0] <= 0.4\\\\nmse = 2.07\\\\nsamples = 10\\\\nvalue = 25.47\"] ;\\n299 -> 301 ;\\n302 [label=\"X[3] <= 0.346\\\\nmse = 2.1\\\\nsamples = 6\\\\nvalue = 26.1\"] ;\\n301 -> 302 ;\\n303 [label=\"X[2] <= 0.28\\\\nmse = 0.202\\\\nsamples = 2\\\\nvalue = 27.45\"] ;\\n302 -> 303 ;\\n304 [label=\"mse = 0.0\\\\nsamples = 1\\\\nvalue = 27.0\"] ;\\n303 -> 304 ;\\n305 [label=\"mse = -0.0\\\\nsamples = 1\\\\nvalue = 27.9\"] ;\\n303 -> 305 ;\\n306 [label=\"X[3] <= 0.356\\\\nmse = 1.682\\\\nsamples = 4\\\\nvalue = 25.425\"] ;\\n302 -> 306 ;\\n307 [label=\"mse = 0.0\\\\nsamples = 1\\\\nvalue = 24.0\"] ;\\n306 -> 307 ;\\n308 [label=\"X[3] <= 0.387\\\\nmse = 1.34\\\\nsamples = 3\\\\nvalue = 25.9\"] ;\\n306 -> 308 ;\\n309 [label=\"X[3] <= 0.368\\\\nmse = 0.09\\\\nsamples = 2\\\\nvalue = 26.7\"] ;\\n308 -> 309 ;\\n310 [label=\"mse = 0.0\\\\nsamples = 1\\\\nvalue = 26.4\"] ;\\n309 -> 310 ;\\n311 [label=\"mse = 0.0\\\\nsamples = 1\\\\nvalue = 27.0\"] ;\\n309 -> 311 ;\\n312 [label=\"mse = -0.0\\\\nsamples = 1\\\\nvalue = 24.3\"] ;\\n308 -> 312 ;\\n313 [label=\"X[3] <= 0.34\\\\nmse = 0.537\\\\nsamples = 4\\\\nvalue = 24.525\"] ;\\n301 -> 313 ;\\n314 [label=\"mse = 0.0\\\\nsamples = 1\\\\nvalue = 23.5\"] ;\\n313 -> 314 ;\\n315 [label=\"X[2] <= 0.391\\\\nmse = 0.249\\\\nsamples = 3\\\\nvalue = 24.867\"] ;\\n313 -> 315 ;\\n316 [label=\"X[1] <= 0.275\\\\nmse = 0.04\\\\nsamples = 2\\\\nvalue = 25.2\"] ;\\n315 -> 316 ;\\n317 [label=\"mse = 0.0\\\\nsamples = 1\\\\nvalue = 25.4\"] ;\\n316 -> 317 ;\\n318 [label=\"mse = -0.0\\\\nsamples = 1\\\\nvalue = 25.0\"] ;\\n316 -> 318 ;\\n319 [label=\"mse = -0.0\\\\nsamples = 1\\\\nvalue = 24.2\"] ;\\n315 -> 319 ;\\n320 [label=\"X[2] <= 0.44\\\\nmse = 13.337\\\\nsamples = 137\\\\nvalue = 16.669\"] ;\\n0 -> 320 [labeldistance=2.5, labelangle=-45, headlabel=\"False\"] ;\\n321 [label=\"X[5] <= 0.958\\\\nmse = 11.489\\\\nsamples = 59\\\\nvalue = 19.369\"] ;\\n320 -> 321 ;\\n322 [label=\"X[5] <= 0.625\\\\nmse = 5.6\\\\nsamples = 58\\\\nvalue = 19.048\"] ;\\n321 -> 322 ;\\n323 [label=\"X[1] <= 0.447\\\\nmse = 4.162\\\\nsamples = 40\\\\nvalue = 18.225\"] ;\\n322 -> 323 ;\\n324 [label=\"X[2] <= 0.201\\\\nmse = 3.015\\\\nsamples = 19\\\\nvalue = 19.395\"] ;\\n323 -> 324 ;\\n325 [label=\"mse = 0.0\\\\nsamples = 1\\\\nvalue = 24.0\"] ;\\n324 -> 325 ;\\n326 [label=\"X[5] <= 0.458\\\\nmse = 1.939\\\\nsamples = 18\\\\nvalue = 19.139\"] ;\\n324 -> 326 ;\\n327 [label=\"X[2] <= 0.253\\\\nmse = 1.597\\\\nsamples = 14\\\\nvalue = 18.786\"] ;\\n326 -> 327 ;\\n328 [label=\"X[3] <= 0.373\\\\nmse = 0.889\\\\nsamples = 3\\\\nvalue = 20.333\"] ;\\n327 -> 328 ;\\n329 [label=\"mse = 0.0\\\\nsamples = 2\\\\nvalue = 21.0\"] ;\\n328 -> 329 ;\\n330 [label=\"mse = 0.0\\\\nsamples = 1\\\\nvalue = 19.0\"] ;\\n328 -> 330 ;\\n331 [label=\"X[4] <= 0.432\\\\nmse = 0.959\\\\nsamples = 11\\\\nvalue = 18.364\"] ;\\n327 -> 331 ;\\n332 [label=\"X[3] <= 0.369\\\\nmse = 1.556\\\\nsamples = 3\\\\nvalue = 19.333\"] ;\\n331 -> 332 ;\\n333 [label=\"X[3] <= 0.311\\\\nmse = 0.25\\\\nsamples = 2\\\\nvalue = 18.5\"] ;\\n332 -> 333 ;\\n334 [label=\"mse = 0.0\\\\nsamples = 1\\\\nvalue = 19.0\"] ;\\n333 -> 334 ;\\n335 [label=\"mse = 0.0\\\\nsamples = 1\\\\nvalue = 18.0\"] ;\\n333 -> 335 ;\\n336 [label=\"mse = 0.0\\\\nsamples = 1\\\\nvalue = 21.0\"] ;\\n332 -> 336 ;\\n337 [label=\"X[4] <= 0.714\\\\nmse = 0.25\\\\nsamples = 8\\\\nvalue = 18.0\"] ;\\n331 -> 337 ;\\n338 [label=\"X[3] <= 0.371\\\\nmse = 0.122\\\\nsamples = 7\\\\nvalue = 18.143\"] ;\\n337 -> 338 ;\\n339 [label=\"X[5] <= 0.167\\\\nmse = 0.25\\\\nsamples = 2\\\\nvalue = 18.5\"] ;\\n338 -> 339 ;\\n340 [label=\"mse = 0.0\\\\nsamples = 1\\\\nvalue = 18.0\"] ;\\n339 -> 340 ;\\n341 [label=\"mse = 0.0\\\\nsamples = 1\\\\nvalue = 19.0\"] ;\\n339 -> 341 ;\\n342 [label=\"mse = 0.0\\\\nsamples = 5\\\\nvalue = 18.0\"] ;\\n338 -> 342 ;\\n343 [label=\"mse = 0.0\\\\nsamples = 1\\\\nvalue = 17.0\"] ;\\n337 -> 343 ;\\n344 [label=\"X[3] <= 0.487\\\\nmse = 1.172\\\\nsamples = 4\\\\nvalue = 20.375\"] ;\\n326 -> 344 ;\\n345 [label=\"mse = 0.0\\\\nsamples = 1\\\\nvalue = 22.0\"] ;\\n344 -> 345 ;\\n346 [label=\"X[2] <= 0.307\\\\nmse = 0.389\\\\nsamples = 3\\\\nvalue = 19.833\"] ;\\n344 -> 346 ;\\n347 [label=\"X[5] <= 0.542\\\\nmse = 0.25\\\\nsamples = 2\\\\nvalue = 19.5\"] ;\\n346 -> 347 ;\\n348 [label=\"mse = 0.0\\\\nsamples = 1\\\\nvalue = 20.0\"] ;\\n347 -> 348 ;\\n349 [label=\"mse = 0.0\\\\nsamples = 1\\\\nvalue = 19.0\"] ;\\n347 -> 349 ;\\n350 [label=\"mse = 0.0\\\\nsamples = 1\\\\nvalue = 20.5\"] ;\\n346 -> 350 ;\\n351 [label=\"X[4] <= 0.521\\\\nmse = 2.841\\\\nsamples = 21\\\\nvalue = 17.167\"] ;\\n323 -> 351 ;\\n352 [label=\"X[2] <= 0.375\\\\nmse = 2.453\\\\nsamples = 10\\\\nvalue = 18.15\"] ;\\n351 -> 352 ;\\n353 [label=\"X[5] <= 0.458\\\\nmse = 1.858\\\\nsamples = 9\\\\nvalue = 18.444\"] ;\\n352 -> 353 ;\\n354 [label=\"X[3] <= 0.483\\\\nmse = 0.333\\\\nsamples = 6\\\\nvalue = 18.0\"] ;\\n353 -> 354 ;\\n355 [label=\"X[3] <= 0.456\\\\nmse = 0.188\\\\nsamples = 4\\\\nvalue = 18.25\"] ;\\n354 -> 355 ;\\n356 [label=\"mse = 0.0\\\\nsamples = 3\\\\nvalue = 18.0\"] ;\\n355 -> 356 ;\\n357 [label=\"mse = 0.0\\\\nsamples = 1\\\\nvalue = 19.0\"] ;\\n355 -> 357 ;\\n358 [label=\"X[2] <= 0.307\\\\nmse = 0.25\\\\nsamples = 2\\\\nvalue = 17.5\"] ;\\n354 -> 358 ;\\n359 [label=\"mse = 0.0\\\\nsamples = 1\\\\nvalue = 17.0\"] ;\\n358 -> 359 ;\\n360 [label=\"mse = 0.0\\\\nsamples = 1\\\\nvalue = 18.0\"] ;\\n358 -> 360 ;\\n361 [label=\"X[3] <= 0.517\\\\nmse = 3.722\\\\nsamples = 3\\\\nvalue = 19.333\"] ;\\n353 -> 361 ;\\n362 [label=\"mse = 0.0\\\\nsamples = 1\\\\nvalue = 22.0\"] ;\\n361 -> 362 ;\\n363 [label=\"X[5] <= 0.542\\\\nmse = 0.25\\\\nsamples = 2\\\\nvalue = 18.0\"] ;\\n361 -> 363 ;\\n364 [label=\"mse = 0.0\\\\nsamples = 1\\\\nvalue = 18.5\"] ;\\n363 -> 364 ;\\n365 [label=\"mse = 0.0\\\\nsamples = 1\\\\nvalue = 17.5\"] ;\\n363 -> 365 ;\\n366 [label=\"mse = 0.0\\\\nsamples = 1\\\\nvalue = 15.5\"] ;\\n352 -> 366 ;\\n367 [label=\"X[5] <= 0.458\\\\nmse = 1.517\\\\nsamples = 11\\\\nvalue = 16.273\"] ;\\n351 -> 367 ;\\n368 [label=\"X[4] <= 0.64\\\\nmse = 0.245\\\\nsamples = 7\\\\nvalue = 15.429\"] ;\\n367 -> 368 ;\\n369 [label=\"X[3] <= 0.552\\\\nmse = 0.188\\\\nsamples = 4\\\\nvalue = 15.75\"] ;\\n368 -> 369 ;\\n370 [label=\"X[5] <= 0.292\\\\nmse = 0.25\\\\nsamples = 2\\\\nvalue = 15.5\"] ;\\n369 -> 370 ;\\n371 [label=\"mse = 0.0\\\\nsamples = 1\\\\nvalue = 16.0\"] ;\\n370 -> 371 ;\\n372 [label=\"mse = 0.0\\\\nsamples = 1\\\\nvalue = 15.0\"] ;\\n370 -> 372 ;\\n373 [label=\"mse = 0.0\\\\nsamples = 2\\\\nvalue = 16.0\"] ;\\n369 -> 373 ;\\n374 [label=\"mse = 0.0\\\\nsamples = 3\\\\nvalue = 15.0\"] ;\\n368 -> 374 ;\\n375 [label=\"X[1] <= 0.481\\\\nmse = 0.312\\\\nsamples = 4\\\\nvalue = 17.75\"] ;\\n367 -> 375 ;\\n376 [label=\"X[3] <= 0.549\\\\nmse = 0.062\\\\nsamples = 2\\\\nvalue = 18.25\"] ;\\n375 -> 376 ;\\n377 [label=\"mse = 0.0\\\\nsamples = 1\\\\nvalue = 18.5\"] ;\\n376 -> 377 ;\\n378 [label=\"mse = 0.0\\\\nsamples = 1\\\\nvalue = 18.0\"] ;\\n376 -> 378 ;\\n379 [label=\"X[2] <= 0.307\\\\nmse = 0.062\\\\nsamples = 2\\\\nvalue = 17.25\"] ;\\n375 -> 379 ;\\n380 [label=\"mse = 0.0\\\\nsamples = 1\\\\nvalue = 17.5\"] ;\\n379 -> 380 ;\\n381 [label=\"mse = 0.0\\\\nsamples = 1\\\\nvalue = 17.0\"] ;\\n379 -> 381 ;\\n382 [label=\"X[1] <= 0.494\\\\nmse = 3.942\\\\nsamples = 18\\\\nvalue = 20.878\"] ;\\n322 -> 382 ;\\n383 [label=\"X[4] <= 0.622\\\\nmse = 1.113\\\\nsamples = 15\\\\nvalue = 20.153\"] ;\\n382 -> 383 ;\\n384 [label=\"X[1] <= 0.457\\\\nmse = 0.934\\\\nsamples = 12\\\\nvalue = 20.45\"] ;\\n383 -> 384 ;\\n385 [label=\"X[2] <= 0.334\\\\nmse = 0.471\\\\nsamples = 11\\\\nvalue = 20.664\"] ;\\n384 -> 385 ;\\n386 [label=\"X[3] <= 0.412\\\\nmse = 0.085\\\\nsamples = 8\\\\nvalue = 20.35\"] ;\\n385 -> 386 ;\\n387 [label=\"X[4] <= 0.574\\\\nmse = 0.036\\\\nsamples = 3\\\\nvalue = 20.067\"] ;\\n386 -> 387 ;\\n388 [label=\"mse = -0.0\\\\nsamples = 2\\\\nvalue = 20.2\"] ;\\n387 -> 388 ;\\n389 [label=\"mse = 0.0\\\\nsamples = 1\\\\nvalue = 19.8\"] ;\\n387 -> 389 ;\\n390 [label=\"X[1] <= 0.422\\\\nmse = 0.038\\\\nsamples = 5\\\\nvalue = 20.52\"] ;\\n386 -> 390 ;\\n391 [label=\"X[3] <= 0.425\\\\nmse = 0.015\\\\nsamples = 4\\\\nvalue = 20.6\"] ;\\n390 -> 391 ;\\n392 [label=\"mse = 0.0\\\\nsamples = 1\\\\nvalue = 20.8\"] ;\\n391 -> 392 ;\\n393 [label=\"X[4] <= 0.506\\\\nmse = 0.002\\\\nsamples = 3\\\\nvalue = 20.533\"] ;\\n391 -> 393 ;\\n394 [label=\"mse = 0.0\\\\nsamples = 1\\\\nvalue = 20.6\"] ;\\n393 -> 394 ;\\n395 [label=\"mse = 0.0\\\\nsamples = 2\\\\nvalue = 20.5\"] ;\\n393 -> 395 ;\\n396 [label=\"mse = -0.0\\\\nsamples = 1\\\\nvalue = 20.2\"] ;\\n390 -> 396 ;\\n397 [label=\"X[3] <= 0.503\\\\nmse = 0.54\\\\nsamples = 3\\\\nvalue = 21.5\"] ;\\n385 -> 397 ;\\n398 [label=\"X[3] <= 0.479\\\\nmse = 0.203\\\\nsamples = 2\\\\nvalue = 21.05\"] ;\\n397 -> 398 ;\\n399 [label=\"mse = 0.0\\\\nsamples = 1\\\\nvalue = 21.5\"] ;\\n398 -> 399 ;\\n400 [label=\"mse = 0.0\\\\nsamples = 1\\\\nvalue = 20.6\"] ;\\n398 -> 400 ;\\n401 [label=\"mse = 0.0\\\\nsamples = 1\\\\nvalue = 22.4\"] ;\\n397 -> 401 ;\\n402 [label=\"mse = -0.0\\\\nsamples = 1\\\\nvalue = 18.1\"] ;\\n384 -> 402 ;\\n403 [label=\"X[2] <= 0.334\\\\nmse = 0.069\\\\nsamples = 3\\\\nvalue = 18.967\"] ;\\n383 -> 403 ;\\n404 [label=\"X[5] <= 0.75\\\\nmse = 0.003\\\\nsamples = 2\\\\nvalue = 19.15\"] ;\\n403 -> 404 ;\\n405 [label=\"mse = 0.0\\\\nsamples = 1\\\\nvalue = 19.2\"] ;\\n404 -> 405 ;\\n406 [label=\"mse = 0.0\\\\nsamples = 1\\\\nvalue = 19.1\"] ;\\n404 -> 406 ;\\n407 [label=\"mse = 0.0\\\\nsamples = 1\\\\nvalue = 18.6\"] ;\\n403 -> 407 ;\\n408 [label=\"X[5] <= 0.833\\\\nmse = 2.34\\\\nsamples = 3\\\\nvalue = 24.5\"] ;\\n382 -> 408 ;\\n409 [label=\"X[3] <= 0.58\\\\nmse = 0.203\\\\nsamples = 2\\\\nvalue = 23.45\"] ;\\n408 -> 409 ;\\n410 [label=\"mse = 0.0\\\\nsamples = 1\\\\nvalue = 23.9\"] ;\\n409 -> 410 ;\\n411 [label=\"mse = 0.0\\\\nsamples = 1\\\\nvalue = 23.0\"] ;\\n409 -> 411 ;\\n412 [label=\"mse = -0.0\\\\nsamples = 1\\\\nvalue = 26.6\"] ;\\n408 -> 412 ;\\n413 [label=\"mse = -0.0\\\\nsamples = 1\\\\nvalue = 38.0\"] ;\\n321 -> 413 ;\\n414 [label=\"X[5] <= 0.542\\\\nmse = 5.049\\\\nsamples = 78\\\\nvalue = 14.627\"] ;\\n320 -> 414 ;\\n415 [label=\"X[3] <= 0.778\\\\nmse = 3.195\\\\nsamples = 59\\\\nvalue = 13.805\"] ;\\n414 -> 415 ;\\n416 [label=\"X[1] <= 0.674\\\\nmse = 2.094\\\\nsamples = 36\\\\nvalue = 14.444\"] ;\\n415 -> 416 ;\\n417 [label=\"X[5] <= 0.042\\\\nmse = 2.347\\\\nsamples = 20\\\\nvalue = 14.875\"] ;\\n416 -> 417 ;\\n418 [label=\"X[4] <= 0.164\\\\nmse = 0.25\\\\nsamples = 2\\\\nvalue = 17.5\"] ;\\n417 -> 418 ;\\n419 [label=\"mse = 0.0\\\\nsamples = 1\\\\nvalue = 17.0\"] ;\\n418 -> 419 ;\\n420 [label=\"mse = 0.0\\\\nsamples = 1\\\\nvalue = 18.0\"] ;\\n418 -> 420 ;\\n421 [label=\"X[3] <= 0.71\\\\nmse = 1.729\\\\nsamples = 18\\\\nvalue = 14.583\"] ;\\n417 -> 421 ;\\n422 [label=\"X[5] <= 0.333\\\\nmse = 1.306\\\\nsamples = 12\\\\nvalue = 14.167\"] ;\\n421 -> 422 ;\\n423 [label=\"X[4] <= 0.283\\\\nmse = 0.938\\\\nsamples = 8\\\\nvalue = 14.75\"] ;\\n422 -> 423 ;\\n424 [label=\"X[5] <= 0.208\\\\nmse = 0.96\\\\nsamples = 5\\\\nvalue = 15.2\"] ;\\n423 -> 424 ;\\n425 [label=\"X[3] <= 0.615\\\\nmse = 1.0\\\\nsamples = 2\\\\nvalue = 16.0\"] ;\\n424 -> 425 ;\\n426 [label=\"mse = 0.0\\\\nsamples = 1\\\\nvalue = 17.0\"] ;\\n425 -> 426 ;\\n427 [label=\"mse = 0.0\\\\nsamples = 1\\\\nvalue = 15.0\"] ;\\n425 -> 427 ;\\n428 [label=\"X[1] <= 0.628\\\\nmse = 0.222\\\\nsamples = 3\\\\nvalue = 14.667\"] ;\\n424 -> 428 ;\\n429 [label=\"mse = 0.0\\\\nsamples = 1\\\\nvalue = 14.0\"] ;\\n428 -> 429 ;\\n430 [label=\"mse = 0.0\\\\nsamples = 2\\\\nvalue = 15.0\"] ;\\n428 -> 430 ;\\n431 [label=\"mse = 0.0\\\\nsamples = 3\\\\nvalue = 14.0\"] ;\\n423 -> 431 ;\\n432 [label=\"mse = 0.0\\\\nsamples = 4\\\\nvalue = 13.0\"] ;\\n422 -> 432 ;\\n433 [label=\"X[3] <= 0.741\\\\nmse = 1.535\\\\nsamples = 6\\\\nvalue = 15.417\"] ;\\n421 -> 433 ;\\n434 [label=\"X[3] <= 0.734\\\\nmse = 0.797\\\\nsamples = 4\\\\nvalue = 16.125\"] ;\\n433 -> 434 ;\\n435 [label=\"X[5] <= 0.25\\\\nmse = 0.222\\\\nsamples = 3\\\\nvalue = 15.667\"] ;\\n434 -> 435 ;\\n436 [label=\"mse = 0.0\\\\nsamples = 1\\\\nvalue = 15.0\"] ;\\n435 -> 436 ;\\n437 [label=\"mse = 0.0\\\\nsamples = 2\\\\nvalue = 16.0\"] ;\\n435 -> 437 ;\\n438 [label=\"mse = 0.0\\\\nsamples = 1\\\\nvalue = 17.5\"] ;\\n434 -> 438 ;\\n439 [label=\"mse = 0.0\\\\nsamples = 2\\\\nvalue = 14.0\"] ;\\n433 -> 439 ;\\n440 [label=\"X[1] <= 0.784\\\\nmse = 1.257\\\\nsamples = 16\\\\nvalue = 13.906\"] ;\\n416 -> 440 ;\\n441 [label=\"X[2] <= 0.715\\\\nmse = 1.123\\\\nsamples = 10\\\\nvalue = 13.45\"] ;\\n440 -> 441 ;\\n442 [label=\"X[5] <= 0.125\\\\nmse = 0.506\\\\nsamples = 9\\\\nvalue = 13.722\"] ;\\n441 -> 442 ;\\n443 [label=\"X[2] <= 0.633\\\\nmse = 0.222\\\\nsamples = 3\\\\nvalue = 14.333\"] ;\\n442 -> 443 ;\\n444 [label=\"mse = 0.0\\\\nsamples = 1\\\\nvalue = 14.0\"] ;\\n443 -> 444 ;\\n445 [label=\"X[4] <= 0.223\\\\nmse = 0.25\\\\nsamples = 2\\\\nvalue = 14.5\"] ;\\n443 -> 445 ;\\n446 [label=\"mse = 0.0\\\\nsamples = 1\\\\nvalue = 15.0\"] ;\\n445 -> 446 ;\\n447 [label=\"mse = 0.0\\\\nsamples = 1\\\\nvalue = 14.0\"] ;\\n445 -> 447 ;\\n448 [label=\"X[4] <= 0.262\\\\nmse = 0.368\\\\nsamples = 6\\\\nvalue = 13.417\"] ;\\n442 -> 448 ;\\n449 [label=\"mse = 0.0\\\\nsamples = 3\\\\nvalue = 13.0\"] ;\\n448 -> 449 ;\\n450 [label=\"X[2] <= 0.557\\\\nmse = 0.389\\\\nsamples = 3\\\\nvalue = 13.833\"] ;\\n448 -> 450 ;\\n451 [label=\"mse = 0.0\\\\nsamples = 1\\\\nvalue = 13.0\"] ;\\n450 -> 451 ;\\n452 [label=\"X[2] <= 0.579\\\\nmse = 0.062\\\\nsamples = 2\\\\nvalue = 14.25\"] ;\\n450 -> 452 ;\\n453 [label=\"mse = 0.0\\\\nsamples = 1\\\\nvalue = 14.5\"] ;\\n452 -> 453 ;\\n454 [label=\"mse = 0.0\\\\nsamples = 1\\\\nvalue = 14.0\"] ;\\n452 -> 454 ;\\n455 [label=\"mse = 0.0\\\\nsamples = 1\\\\nvalue = 11.0\"] ;\\n441 -> 455 ;\\n456 [label=\"X[1] <= 0.91\\\\nmse = 0.556\\\\nsamples = 6\\\\nvalue = 14.667\"] ;\\n440 -> 456 ;\\n457 [label=\"X[5] <= 0.125\\\\nmse = 0.222\\\\nsamples = 3\\\\nvalue = 15.333\"] ;\\n456 -> 457 ;\\n458 [label=\"mse = 0.0\\\\nsamples = 2\\\\nvalue = 15.0\"] ;\\n457 -> 458 ;\\n459 [label=\"mse = 0.0\\\\nsamples = 1\\\\nvalue = 16.0\"] ;\\n457 -> 459 ;\\n460 [label=\"mse = 0.0\\\\nsamples = 3\\\\nvalue = 14.0\"] ;\\n456 -> 460 ;\\n461 [label=\"X[5] <= 0.375\\\\nmse = 3.277\\\\nsamples = 23\\\\nvalue = 12.804\"] ;\\n415 -> 461 ;\\n462 [label=\"X[1] <= 0.632\\\\nmse = 1.81\\\\nsamples = 20\\\\nvalue = 12.3\"] ;\\n461 -> 462 ;\\n463 [label=\"X[4] <= 0.521\\\\nmse = 0.25\\\\nsamples = 2\\\\nvalue = 9.5\"] ;\\n462 -> 463 ;\\n464 [label=\"mse = 0.0\\\\nsamples = 1\\\\nvalue = 10.0\"] ;\\n463 -> 464 ;\\n465 [label=\"mse = 0.0\\\\nsamples = 1\\\\nvalue = 9.0\"] ;\\n463 -> 465 ;\\n466 [label=\"X[3] <= 0.813\\\\nmse = 1.015\\\\nsamples = 18\\\\nvalue = 12.611\"] ;\\n462 -> 466 ;\\n467 [label=\"X[4] <= 0.253\\\\nmse = 1.109\\\\nsamples = 8\\\\nvalue = 13.125\"] ;\\n466 -> 467 ;\\n468 [label=\"mse = 0.0\\\\nsamples = 3\\\\nvalue = 14.0\"] ;\\n467 -> 468 ;\\n469 [label=\"X[5] <= 0.083\\\\nmse = 1.04\\\\nsamples = 5\\\\nvalue = 12.6\"] ;\\n467 -> 469 ;\\n470 [label=\"mse = 0.0\\\\nsamples = 1\\\\nvalue = 11.0\"] ;\\n469 -> 470 ;\\n471 [label=\"X[1] <= 0.687\\\\nmse = 0.5\\\\nsamples = 4\\\\nvalue = 13.0\"] ;\\n469 -> 471 ;\\n472 [label=\"mse = 0.0\\\\nsamples = 1\\\\nvalue = 14.0\"] ;\\n471 -> 472 ;\\n473 [label=\"X[4] <= 0.312\\\\nmse = 0.222\\\\nsamples = 3\\\\nvalue = 12.667\"] ;\\n471 -> 473 ;\\n474 [label=\"mse = 0.0\\\\nsamples = 2\\\\nvalue = 13.0\"] ;\\n473 -> 474 ;\\n475 [label=\"mse = 0.0\\\\nsamples = 1\\\\nvalue = 12.0\"] ;\\n473 -> 475 ;\\n476 [label=\"X[1] <= 0.784\\\\nmse = 0.56\\\\nsamples = 10\\\\nvalue = 12.2\"] ;\\n466 -> 476 ;\\n477 [label=\"X[3] <= 0.819\\\\nmse = 0.188\\\\nsamples = 4\\\\nvalue = 12.75\"] ;\\n476 -> 477 ;\\n478 [label=\"mse = 0.0\\\\nsamples = 1\\\\nvalue = 12.0\"] ;\\n477 -> 478 ;\\n479 [label=\"mse = 0.0\\\\nsamples = 3\\\\nvalue = 13.0\"] ;\\n477 -> 479 ;\\n480 [label=\"X[3] <= 0.98\\\\nmse = 0.472\\\\nsamples = 6\\\\nvalue = 11.833\"] ;\\n476 -> 480 ;\\n481 [label=\"X[3] <= 0.895\\\\nmse = 0.24\\\\nsamples = 5\\\\nvalue = 11.6\"] ;\\n480 -> 481 ;\\n482 [label=\"mse = 0.0\\\\nsamples = 1\\\\nvalue = 11.0\"] ;\\n481 -> 482 ;\\n483 [label=\"X[2] <= 0.611\\\\nmse = 0.188\\\\nsamples = 4\\\\nvalue = 11.75\"] ;\\n481 -> 483 ;\\n484 [label=\"mse = 0.0\\\\nsamples = 1\\\\nvalue = 11.0\"] ;\\n483 -> 484 ;\\n485 [label=\"mse = 0.0\\\\nsamples = 3\\\\nvalue = 12.0\"] ;\\n483 -> 485 ;\\n486 [label=\"mse = 0.0\\\\nsamples = 1\\\\nvalue = 13.0\"] ;\\n480 -> 486 ;\\n487 [label=\"X[2] <= 0.701\\\\nmse = 0.056\\\\nsamples = 3\\\\nvalue = 16.167\"] ;\\n461 -> 487 ;\\n488 [label=\"mse = 0.0\\\\nsamples = 2\\\\nvalue = 16.0\"] ;\\n487 -> 488 ;\\n489 [label=\"mse = 0.0\\\\nsamples = 1\\\\nvalue = 16.5\"] ;\\n487 -> 489 ;\\n490 [label=\"X[3] <= 0.662\\\\nmse = 2.196\\\\nsamples = 19\\\\nvalue = 17.179\"] ;\\n414 -> 490 ;\\n491 [label=\"X[4] <= 0.315\\\\nmse = 0.888\\\\nsamples = 10\\\\nvalue = 18.34\"] ;\\n490 -> 491 ;\\n492 [label=\"X[4] <= 0.277\\\\nmse = 0.791\\\\nsamples = 6\\\\nvalue = 18.817\"] ;\\n491 -> 492 ;\\n493 [label=\"X[2] <= 0.522\\\\nmse = 0.09\\\\nsamples = 2\\\\nvalue = 17.8\"] ;\\n492 -> 493 ;\\n494 [label=\"mse = 0.0\\\\nsamples = 1\\\\nvalue = 18.1\"] ;\\n493 -> 494 ;\\n495 [label=\"mse = 0.0\\\\nsamples = 1\\\\nvalue = 17.5\"] ;\\n493 -> 495 ;\\n496 [label=\"X[1] <= 0.609\\\\nmse = 0.367\\\\nsamples = 4\\\\nvalue = 19.325\"] ;\\n492 -> 496 ;\\n497 [label=\"mse = 0.0\\\\nsamples = 1\\\\nvalue = 20.2\"] ;\\n496 -> 497 ;\\n498 [label=\"X[1] <= 0.7\\\\nmse = 0.149\\\\nsamples = 3\\\\nvalue = 19.033\"] ;\\n496 -> 498 ;\\n499 [label=\"X[3] <= 0.558\\\\nmse = 0.01\\\\nsamples = 2\\\\nvalue = 19.3\"] ;\\n498 -> 499 ;\\n500 [label=\"mse = 0.0\\\\nsamples = 1\\\\nvalue = 19.2\"] ;\\n499 -> 500 ;\\n501 [label=\"mse = 0.0\\\\nsamples = 1\\\\nvalue = 19.4\"] ;\\n499 -> 501 ;\\n502 [label=\"mse = 0.0\\\\nsamples = 1\\\\nvalue = 18.5\"] ;\\n498 -> 502 ;\\n503 [label=\"X[3] <= 0.63\\\\nmse = 0.182\\\\nsamples = 4\\\\nvalue = 17.625\"] ;\\n491 -> 503 ;\\n504 [label=\"X[1] <= 0.625\\\\nmse = 0.069\\\\nsamples = 3\\\\nvalue = 17.833\"] ;\\n503 -> 504 ;\\n505 [label=\"X[3] <= 0.559\\\\nmse = 0.003\\\\nsamples = 2\\\\nvalue = 17.65\"] ;\\n504 -> 505 ;\\n506 [label=\"mse = 0.0\\\\nsamples = 1\\\\nvalue = 17.7\"] ;\\n505 -> 506 ;\\n507 [label=\"mse = 0.0\\\\nsamples = 1\\\\nvalue = 17.6\"] ;\\n505 -> 507 ;\\n508 [label=\"mse = -0.0\\\\nsamples = 1\\\\nvalue = 18.2\"] ;\\n504 -> 508 ;\\n509 [label=\"mse = 0.0\\\\nsamples = 1\\\\nvalue = 17.0\"] ;\\n503 -> 509 ;\\n510 [label=\"X[3] <= 0.708\\\\nmse = 0.488\\\\nsamples = 9\\\\nvalue = 15.889\"] ;\\n490 -> 510 ;\\n511 [label=\"X[2] <= 0.516\\\\nmse = 0.667\\\\nsamples = 3\\\\nvalue = 16.5\"] ;\\n510 -> 511 ;\\n512 [label=\"X[4] <= 0.324\\\\nmse = 0.25\\\\nsamples = 2\\\\nvalue = 17.0\"] ;\\n511 -> 512 ;\\n513 [label=\"mse = 0.0\\\\nsamples = 1\\\\nvalue = 16.5\"] ;\\n512 -> 513 ;\\n514 [label=\"mse = 0.0\\\\nsamples = 1\\\\nvalue = 17.5\"] ;\\n512 -> 514 ;\\n515 [label=\"mse = 0.0\\\\nsamples = 1\\\\nvalue = 15.5\"] ;\\n511 -> 515 ;\\n516 [label=\"X[1] <= 0.625\\\\nmse = 0.118\\\\nsamples = 6\\\\nvalue = 15.583\"] ;\\n510 -> 516 ;\\n517 [label=\"mse = 0.0\\\\nsamples = 1\\\\nvalue = 15.0\"] ;\\n516 -> 517 ;\\n518 [label=\"X[3] <= 0.731\\\\nmse = 0.06\\\\nsamples = 5\\\\nvalue = 15.7\"] ;\\n516 -> 518 ;\\n519 [label=\"mse = 0.0\\\\nsamples = 2\\\\nvalue = 15.5\"] ;\\n518 -> 519 ;\\n520 [label=\"X[2] <= 0.755\\\\nmse = 0.056\\\\nsamples = 3\\\\nvalue = 15.833\"] ;\\n518 -> 520 ;\\n521 [label=\"mse = 0.0\\\\nsamples = 2\\\\nvalue = 16.0\"] ;\\n520 -> 521 ;\\n522 [label=\"mse = 0.0\\\\nsamples = 1\\\\nvalue = 15.5\"] ;\\n520 -> 522 ;\\n}'"
      ]
     },
     "execution_count": 20,
     "metadata": {},
     "output_type": "execute_result"
    }
   ],
   "source": [
    "export_graphviz(tree)"
   ]
  },
  {
   "cell_type": "code",
   "execution_count": 21,
   "id": "e6a742b9",
   "metadata": {},
   "outputs": [
    {
     "data": {
      "text/plain": [
       "<10x523 sparse matrix of type '<class 'numpy.int64'>'\n",
       "\twith 110 stored elements in Compressed Sparse Row format>"
      ]
     },
     "execution_count": 21,
     "metadata": {},
     "output_type": "execute_result"
    }
   ],
   "source": [
    "tree.decision_path(attributes_train[:10])"
   ]
  },
  {
   "cell_type": "code",
   "execution_count": 22,
   "id": "34af2160",
   "metadata": {},
   "outputs": [],
   "source": [
    "# Max depth is not configured in this case\n",
    "tree.max_depth"
   ]
  },
  {
   "cell_type": "code",
   "execution_count": 23,
   "id": "916079a4",
   "metadata": {},
   "outputs": [
    {
     "data": {
      "text/plain": [
       "16"
      ]
     },
     "execution_count": 23,
     "metadata": {},
     "output_type": "execute_result"
    }
   ],
   "source": [
    "# Most probably 16 questions are too much\n",
    "tree.get_depth()"
   ]
  },
  {
   "cell_type": "code",
   "execution_count": 24,
   "id": "ff95e67c",
   "metadata": {},
   "outputs": [
    {
     "data": {
      "text/plain": [
       "array([0.00401329, 0.62892859, 0.17428133, 0.06264555, 0.02064186,\n",
       "       0.10350182, 0.00598755])"
      ]
     },
     "execution_count": 24,
     "metadata": {},
     "output_type": "execute_result"
    }
   ],
   "source": [
    "tree.feature_importances_"
   ]
  },
  {
   "cell_type": "code",
   "execution_count": 25,
   "id": "df86829e",
   "metadata": {},
   "outputs": [
    {
     "data": {
      "text/plain": [
       "[(0.004013293198243126, 'cylinders'),\n",
       " (0.6289285905008706, 'displacement'),\n",
       " (0.17428133474668797, 'horsepower'),\n",
       " (0.06264555173409418, 'weight'),\n",
       " (0.02064185702886951, 'acceleration'),\n",
       " (0.1035018247214819, 'model year'),\n",
       " (0.005987548069752713, 'origin')]"
      ]
     },
     "execution_count": 25,
     "metadata": {},
     "output_type": "execute_result"
    }
   ],
   "source": [
    "list(zip(tree.feature_importances_, mpg_data_attributes.columns))"
   ]
  }
 ],
 "metadata": {
  "kernelspec": {
   "display_name": "Python 3",
   "language": "python",
   "name": "python3"
  },
  "language_info": {
   "codemirror_mode": {
    "name": "ipython",
    "version": 3
   },
   "file_extension": ".py",
   "mimetype": "text/x-python",
   "name": "python",
   "nbconvert_exporter": "python",
   "pygments_lexer": "ipython3",
   "version": "3.8.8"
  }
 },
 "nbformat": 4,
 "nbformat_minor": 5
}
